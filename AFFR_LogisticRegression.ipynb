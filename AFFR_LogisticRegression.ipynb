{
 "cells": [
  {
   "cell_type": "markdown",
   "metadata": {},
   "source": [
    "# Amazon Fine Food Reviews Analysis Using Logistic Regression\n",
    "\n",
    "\n",
    "Data Source: https://www.kaggle.com/snap/amazon-fine-food-reviews <br>\n",
    "\n",
    "EDA: https://nycdatascience.com/blog/student-works/amazon-fine-foods-visualization/\n",
    "\n",
    "\n",
    "The Amazon Fine Food Reviews dataset consists of reviews of fine foods from Amazon.<br>\n",
    "\n",
    "Number of reviews: 568,454<br>\n",
    "Number of users: 256,059<br>\n",
    "Number of products: 74,258<br>\n",
    "Timespan: Oct 1999 - Oct 2012<br>\n",
    "Number of Attributes/Columns in data: 10 \n",
    "\n",
    "Attribute Information:\n",
    "\n",
    "1. Id\n",
    "2. ProductId - unique identifier for the product\n",
    "3. UserId - unqiue identifier for the user\n",
    "4. ProfileName\n",
    "5. HelpfulnessNumerator - number of users who found the review helpful\n",
    "6. HelpfulnessDenominator - number of users who indicated whether they found the review helpful or not\n",
    "7. Score - rating between 1 and 5\n",
    "8. Time - timestamp for the review\n",
    "9. Summary - brief summary of the review\n",
    "10. Text - text of the review\n",
    "\n",
    "\n",
    "#### Objective:\n",
    "Given a review, determine whether the review is positive (Rating of 4 or 5) or negative (rating of 1 or 2).\n",
    "\n",
    "<br>\n",
    "[Q] How to determine if a review is positive or negative?<br>\n",
    "<br> \n",
    "[Ans] We could use the Score/Rating. A rating of 4 or 5 could be cosnidered a positive review. A review of 1 or 2 could be considered negative. A review of 3 is nuetral and ignored. This is an approximate and proxy way of determining the polarity (positivity/negativity) of a review.\n"
   ]
  },
  {
   "cell_type": "markdown",
   "metadata": {},
   "source": [
    "## Loading the data\n",
    "\n",
    "The dataset is available in two forms\n",
    "1. .csv file\n",
    "2. SQLite Database\n",
    "\n",
    "In order to load the data, We have used the SQLITE dataset as it easier to query the data and visualise the data efficiently.\n",
    "<br> \n",
    "\n",
    "Here as we only want to get the global sentiment of the recommendations (positive or negative), we will purposefully ignore all Scores equal to 3. If the score id above 3, then the recommendation wil be set to \"positive\". Otherwise, it will be set to \"negative\"."
   ]
  },
  {
   "cell_type": "code",
   "execution_count": 43,
   "metadata": {},
   "outputs": [],
   "source": [
    "%matplotlib inline\n",
    "import warnings\n",
    "warnings.filterwarnings(\"ignore\")\n",
    "\n",
    "\n",
    "\n",
    "import sqlite3\n",
    "import pandas as pd\n",
    "import numpy as np\n",
    "import nltk\n",
    "import string\n",
    "import matplotlib.pyplot as plt\n",
    "import seaborn as sns\n",
    "from sklearn.feature_extraction.text import TfidfTransformer\n",
    "from sklearn.feature_extraction.text import TfidfVectorizer\n",
    "\n",
    "from sklearn.feature_extraction.text import CountVectorizer\n",
    "from sklearn.metrics import confusion_matrix\n",
    "from sklearn import metrics\n",
    "from sklearn.metrics import roc_curve, auc\n",
    "from nltk.stem.porter import PorterStemmer\n",
    "\n",
    "import re\n",
    "# Tutorial about Python regular expressions: https://pymotw.com/2/re/\n",
    "import string\n",
    "from nltk.corpus import stopwords\n",
    "from nltk.stem import PorterStemmer\n",
    "from nltk.stem.wordnet import WordNetLemmatizer\n",
    "\n",
    "from gensim.models import Word2Vec\n",
    "from gensim.models import KeyedVectors\n",
    "import pickle\n",
    "\n",
    "from tqdm import tqdm\n",
    "import os\n",
    "\n",
    "from sklearn.model_selection import train_test_split\n",
    "from sklearn.metrics import roc_auc_score\n",
    "from sklearn.neighbors import KNeighborsClassifier\n",
    "from sklearn.model_selection import GridSearchCV\n",
    "from sklearn.feature_extraction.text import CountVectorizer\n",
    "from sklearn.metrics import accuracy_score\n",
    "from sklearn.cross_validation import cross_val_score\n",
    "from collections import Counter\n",
    "from sklearn import cross_validation\n",
    "from sklearn.linear_model import LogisticRegression\n",
    "from sklearn.preprocessing import StandardScaler\n",
    "\n",
    "from gensim.models import Word2Vec\n",
    "from gensim.models import KeyedVectors\n",
    "import pickle"
   ]
  },
  {
   "cell_type": "markdown",
   "metadata": {},
   "source": [
    "# [1]. Reading Data"
   ]
  },
  {
   "cell_type": "code",
   "execution_count": 44,
   "metadata": {},
   "outputs": [
    {
     "name": "stdout",
     "output_type": "stream",
     "text": [
      "Number of data points in our data (100000, 10)\n"
     ]
    },
    {
     "data": {
      "text/html": [
       "<div>\n",
       "<style scoped>\n",
       "    .dataframe tbody tr th:only-of-type {\n",
       "        vertical-align: middle;\n",
       "    }\n",
       "\n",
       "    .dataframe tbody tr th {\n",
       "        vertical-align: top;\n",
       "    }\n",
       "\n",
       "    .dataframe thead th {\n",
       "        text-align: right;\n",
       "    }\n",
       "</style>\n",
       "<table border=\"1\" class=\"dataframe\">\n",
       "  <thead>\n",
       "    <tr style=\"text-align: right;\">\n",
       "      <th></th>\n",
       "      <th>Id</th>\n",
       "      <th>ProductId</th>\n",
       "      <th>UserId</th>\n",
       "      <th>ProfileName</th>\n",
       "      <th>HelpfulnessNumerator</th>\n",
       "      <th>HelpfulnessDenominator</th>\n",
       "      <th>Score</th>\n",
       "      <th>Time</th>\n",
       "      <th>Summary</th>\n",
       "      <th>Text</th>\n",
       "    </tr>\n",
       "  </thead>\n",
       "  <tbody>\n",
       "    <tr>\n",
       "      <th>0</th>\n",
       "      <td>1</td>\n",
       "      <td>B001E4KFG0</td>\n",
       "      <td>A3SGXH7AUHU8GW</td>\n",
       "      <td>delmartian</td>\n",
       "      <td>1</td>\n",
       "      <td>1</td>\n",
       "      <td>1</td>\n",
       "      <td>1303862400</td>\n",
       "      <td>Good Quality Dog Food</td>\n",
       "      <td>I have bought several of the Vitality canned d...</td>\n",
       "    </tr>\n",
       "    <tr>\n",
       "      <th>1</th>\n",
       "      <td>2</td>\n",
       "      <td>B00813GRG4</td>\n",
       "      <td>A1D87F6ZCVE5NK</td>\n",
       "      <td>dll pa</td>\n",
       "      <td>0</td>\n",
       "      <td>0</td>\n",
       "      <td>0</td>\n",
       "      <td>1346976000</td>\n",
       "      <td>Not as Advertised</td>\n",
       "      <td>Product arrived labeled as Jumbo Salted Peanut...</td>\n",
       "    </tr>\n",
       "    <tr>\n",
       "      <th>2</th>\n",
       "      <td>3</td>\n",
       "      <td>B000LQOCH0</td>\n",
       "      <td>ABXLMWJIXXAIN</td>\n",
       "      <td>Natalia Corres \"Natalia Corres\"</td>\n",
       "      <td>1</td>\n",
       "      <td>1</td>\n",
       "      <td>1</td>\n",
       "      <td>1219017600</td>\n",
       "      <td>\"Delight\" says it all</td>\n",
       "      <td>This is a confection that has been around a fe...</td>\n",
       "    </tr>\n",
       "  </tbody>\n",
       "</table>\n",
       "</div>"
      ],
      "text/plain": [
       "   Id   ProductId          UserId                      ProfileName  \\\n",
       "0   1  B001E4KFG0  A3SGXH7AUHU8GW                       delmartian   \n",
       "1   2  B00813GRG4  A1D87F6ZCVE5NK                           dll pa   \n",
       "2   3  B000LQOCH0   ABXLMWJIXXAIN  Natalia Corres \"Natalia Corres\"   \n",
       "\n",
       "   HelpfulnessNumerator  HelpfulnessDenominator  Score        Time  \\\n",
       "0                     1                       1      1  1303862400   \n",
       "1                     0                       0      0  1346976000   \n",
       "2                     1                       1      1  1219017600   \n",
       "\n",
       "                 Summary                                               Text  \n",
       "0  Good Quality Dog Food  I have bought several of the Vitality canned d...  \n",
       "1      Not as Advertised  Product arrived labeled as Jumbo Salted Peanut...  \n",
       "2  \"Delight\" says it all  This is a confection that has been around a fe...  "
      ]
     },
     "execution_count": 44,
     "metadata": {},
     "output_type": "execute_result"
    }
   ],
   "source": [
    "# using SQLite Table to read data.\n",
    "con = sqlite3.connect('D:\\\\TGM\\\\ML\\\\AmazonFineFoodReviews\\\\database.sqlite') \n",
    "\n",
    "# filtering only positive and negative reviews i.e. \n",
    "# not taking into consideration those reviews with Score=3\n",
    "# SELECT * FROM Reviews WHERE Score != 3 LIMIT 500000, will give top 500000 data points\n",
    "# you can change the number to any other number based on your computing power\n",
    "\n",
    "# filtered_data = pd.read_sql_query(\"\"\" SELECT * FROM Reviews WHERE Score != 3 LIMIT 500000\"\"\", con) \n",
    "# for tsne assignment you can take 5k data points\n",
    "\n",
    "filtered_data = pd.read_sql_query(\"\"\" SELECT * FROM Reviews WHERE Score != 3 LIMIT 100000\"\"\", con) \n",
    "\n",
    "# Give reviews with Score>3 a positive rating(1), and reviews with a score<3 a negative rating(0).\n",
    "def partition(x):\n",
    "    if x < 3:\n",
    "        return 0\n",
    "    return 1\n",
    "\n",
    "#changing reviews with score less than 3 to be positive and vice-versa\n",
    "actualScore = filtered_data['Score']\n",
    "positiveNegative = actualScore.map(partition) \n",
    "filtered_data['Score'] = positiveNegative\n",
    "print(\"Number of data points in our data\", filtered_data.shape)\n",
    "filtered_data.head(3)"
   ]
  },
  {
   "cell_type": "code",
   "execution_count": 45,
   "metadata": {},
   "outputs": [],
   "source": [
    "display = pd.read_sql_query(\"\"\"\n",
    "SELECT UserId, ProductId, ProfileName, Time, Score, Text, COUNT(*)\n",
    "FROM Reviews\n",
    "GROUP BY UserId\n",
    "HAVING COUNT(*)>1\n",
    "\"\"\", con)"
   ]
  },
  {
   "cell_type": "code",
   "execution_count": 46,
   "metadata": {},
   "outputs": [
    {
     "name": "stdout",
     "output_type": "stream",
     "text": [
      "(80668, 7)\n"
     ]
    },
    {
     "data": {
      "text/html": [
       "<div>\n",
       "<style scoped>\n",
       "    .dataframe tbody tr th:only-of-type {\n",
       "        vertical-align: middle;\n",
       "    }\n",
       "\n",
       "    .dataframe tbody tr th {\n",
       "        vertical-align: top;\n",
       "    }\n",
       "\n",
       "    .dataframe thead th {\n",
       "        text-align: right;\n",
       "    }\n",
       "</style>\n",
       "<table border=\"1\" class=\"dataframe\">\n",
       "  <thead>\n",
       "    <tr style=\"text-align: right;\">\n",
       "      <th></th>\n",
       "      <th>UserId</th>\n",
       "      <th>ProductId</th>\n",
       "      <th>ProfileName</th>\n",
       "      <th>Time</th>\n",
       "      <th>Score</th>\n",
       "      <th>Text</th>\n",
       "      <th>COUNT(*)</th>\n",
       "    </tr>\n",
       "  </thead>\n",
       "  <tbody>\n",
       "    <tr>\n",
       "      <th>0</th>\n",
       "      <td>#oc-R115TNMSPFT9I7</td>\n",
       "      <td>B007Y59HVM</td>\n",
       "      <td>Breyton</td>\n",
       "      <td>1331510400</td>\n",
       "      <td>2</td>\n",
       "      <td>Overall its just OK when considering the price...</td>\n",
       "      <td>2</td>\n",
       "    </tr>\n",
       "    <tr>\n",
       "      <th>1</th>\n",
       "      <td>#oc-R11D9D7SHXIJB9</td>\n",
       "      <td>B005HG9ET0</td>\n",
       "      <td>Louis E. Emory \"hoppy\"</td>\n",
       "      <td>1342396800</td>\n",
       "      <td>5</td>\n",
       "      <td>My wife has recurring extreme muscle spasms, u...</td>\n",
       "      <td>3</td>\n",
       "    </tr>\n",
       "    <tr>\n",
       "      <th>2</th>\n",
       "      <td>#oc-R11DNU2NBKQ23Z</td>\n",
       "      <td>B007Y59HVM</td>\n",
       "      <td>Kim Cieszykowski</td>\n",
       "      <td>1348531200</td>\n",
       "      <td>1</td>\n",
       "      <td>This coffee is horrible and unfortunately not ...</td>\n",
       "      <td>2</td>\n",
       "    </tr>\n",
       "    <tr>\n",
       "      <th>3</th>\n",
       "      <td>#oc-R11O5J5ZVQE25C</td>\n",
       "      <td>B005HG9ET0</td>\n",
       "      <td>Penguin Chick</td>\n",
       "      <td>1346889600</td>\n",
       "      <td>5</td>\n",
       "      <td>This will be the bottle that you grab from the...</td>\n",
       "      <td>3</td>\n",
       "    </tr>\n",
       "    <tr>\n",
       "      <th>4</th>\n",
       "      <td>#oc-R12KPBODL2B5ZD</td>\n",
       "      <td>B007OSBE1U</td>\n",
       "      <td>Christopher P. Presta</td>\n",
       "      <td>1348617600</td>\n",
       "      <td>1</td>\n",
       "      <td>I didnt like this coffee. Instead of telling y...</td>\n",
       "      <td>2</td>\n",
       "    </tr>\n",
       "  </tbody>\n",
       "</table>\n",
       "</div>"
      ],
      "text/plain": [
       "               UserId   ProductId             ProfileName        Time  Score  \\\n",
       "0  #oc-R115TNMSPFT9I7  B007Y59HVM                 Breyton  1331510400      2   \n",
       "1  #oc-R11D9D7SHXIJB9  B005HG9ET0  Louis E. Emory \"hoppy\"  1342396800      5   \n",
       "2  #oc-R11DNU2NBKQ23Z  B007Y59HVM        Kim Cieszykowski  1348531200      1   \n",
       "3  #oc-R11O5J5ZVQE25C  B005HG9ET0           Penguin Chick  1346889600      5   \n",
       "4  #oc-R12KPBODL2B5ZD  B007OSBE1U   Christopher P. Presta  1348617600      1   \n",
       "\n",
       "                                                Text  COUNT(*)  \n",
       "0  Overall its just OK when considering the price...         2  \n",
       "1  My wife has recurring extreme muscle spasms, u...         3  \n",
       "2  This coffee is horrible and unfortunately not ...         2  \n",
       "3  This will be the bottle that you grab from the...         3  \n",
       "4  I didnt like this coffee. Instead of telling y...         2  "
      ]
     },
     "execution_count": 46,
     "metadata": {},
     "output_type": "execute_result"
    }
   ],
   "source": [
    "print(display.shape)\n",
    "display.head()"
   ]
  },
  {
   "cell_type": "code",
   "execution_count": 47,
   "metadata": {},
   "outputs": [
    {
     "data": {
      "text/html": [
       "<div>\n",
       "<style scoped>\n",
       "    .dataframe tbody tr th:only-of-type {\n",
       "        vertical-align: middle;\n",
       "    }\n",
       "\n",
       "    .dataframe tbody tr th {\n",
       "        vertical-align: top;\n",
       "    }\n",
       "\n",
       "    .dataframe thead th {\n",
       "        text-align: right;\n",
       "    }\n",
       "</style>\n",
       "<table border=\"1\" class=\"dataframe\">\n",
       "  <thead>\n",
       "    <tr style=\"text-align: right;\">\n",
       "      <th></th>\n",
       "      <th>UserId</th>\n",
       "      <th>ProductId</th>\n",
       "      <th>ProfileName</th>\n",
       "      <th>Time</th>\n",
       "      <th>Score</th>\n",
       "      <th>Text</th>\n",
       "      <th>COUNT(*)</th>\n",
       "    </tr>\n",
       "  </thead>\n",
       "  <tbody>\n",
       "    <tr>\n",
       "      <th>80638</th>\n",
       "      <td>AZY10LLTJ71NX</td>\n",
       "      <td>B006P7E5ZI</td>\n",
       "      <td>undertheshrine \"undertheshrine\"</td>\n",
       "      <td>1334707200</td>\n",
       "      <td>5</td>\n",
       "      <td>I was recommended to try green tea extract to ...</td>\n",
       "      <td>5</td>\n",
       "    </tr>\n",
       "  </tbody>\n",
       "</table>\n",
       "</div>"
      ],
      "text/plain": [
       "              UserId   ProductId                      ProfileName        Time  \\\n",
       "80638  AZY10LLTJ71NX  B006P7E5ZI  undertheshrine \"undertheshrine\"  1334707200   \n",
       "\n",
       "       Score                                               Text  COUNT(*)  \n",
       "80638      5  I was recommended to try green tea extract to ...         5  "
      ]
     },
     "execution_count": 47,
     "metadata": {},
     "output_type": "execute_result"
    }
   ],
   "source": [
    "display[display['UserId']=='AZY10LLTJ71NX']"
   ]
  },
  {
   "cell_type": "code",
   "execution_count": 48,
   "metadata": {},
   "outputs": [
    {
     "data": {
      "text/plain": [
       "393063"
      ]
     },
     "execution_count": 48,
     "metadata": {},
     "output_type": "execute_result"
    }
   ],
   "source": [
    "display['COUNT(*)'].sum()"
   ]
  },
  {
   "cell_type": "markdown",
   "metadata": {},
   "source": [
    "#  Exploratory Data Analysis\n",
    "\n",
    "## [2] Data Cleaning: Deduplication\n",
    "\n",
    "It is observed (as shown in the table below) that the reviews data had many duplicate entries. Hence it was necessary to remove duplicates in order to get unbiased results for the analysis of the data.  Following is an example:"
   ]
  },
  {
   "cell_type": "code",
   "execution_count": 49,
   "metadata": {},
   "outputs": [
    {
     "data": {
      "text/html": [
       "<div>\n",
       "<style scoped>\n",
       "    .dataframe tbody tr th:only-of-type {\n",
       "        vertical-align: middle;\n",
       "    }\n",
       "\n",
       "    .dataframe tbody tr th {\n",
       "        vertical-align: top;\n",
       "    }\n",
       "\n",
       "    .dataframe thead th {\n",
       "        text-align: right;\n",
       "    }\n",
       "</style>\n",
       "<table border=\"1\" class=\"dataframe\">\n",
       "  <thead>\n",
       "    <tr style=\"text-align: right;\">\n",
       "      <th></th>\n",
       "      <th>Id</th>\n",
       "      <th>ProductId</th>\n",
       "      <th>UserId</th>\n",
       "      <th>ProfileName</th>\n",
       "      <th>HelpfulnessNumerator</th>\n",
       "      <th>HelpfulnessDenominator</th>\n",
       "      <th>Score</th>\n",
       "      <th>Time</th>\n",
       "      <th>Summary</th>\n",
       "      <th>Text</th>\n",
       "    </tr>\n",
       "  </thead>\n",
       "  <tbody>\n",
       "    <tr>\n",
       "      <th>0</th>\n",
       "      <td>78445</td>\n",
       "      <td>B000HDL1RQ</td>\n",
       "      <td>AR5J8UI46CURR</td>\n",
       "      <td>Geetha Krishnan</td>\n",
       "      <td>2</td>\n",
       "      <td>2</td>\n",
       "      <td>5</td>\n",
       "      <td>1199577600</td>\n",
       "      <td>LOACKER QUADRATINI VANILLA WAFERS</td>\n",
       "      <td>DELICIOUS WAFERS. I FIND THAT EUROPEAN WAFERS ...</td>\n",
       "    </tr>\n",
       "    <tr>\n",
       "      <th>1</th>\n",
       "      <td>138317</td>\n",
       "      <td>B000HDOPYC</td>\n",
       "      <td>AR5J8UI46CURR</td>\n",
       "      <td>Geetha Krishnan</td>\n",
       "      <td>2</td>\n",
       "      <td>2</td>\n",
       "      <td>5</td>\n",
       "      <td>1199577600</td>\n",
       "      <td>LOACKER QUADRATINI VANILLA WAFERS</td>\n",
       "      <td>DELICIOUS WAFERS. I FIND THAT EUROPEAN WAFERS ...</td>\n",
       "    </tr>\n",
       "    <tr>\n",
       "      <th>2</th>\n",
       "      <td>138277</td>\n",
       "      <td>B000HDOPYM</td>\n",
       "      <td>AR5J8UI46CURR</td>\n",
       "      <td>Geetha Krishnan</td>\n",
       "      <td>2</td>\n",
       "      <td>2</td>\n",
       "      <td>5</td>\n",
       "      <td>1199577600</td>\n",
       "      <td>LOACKER QUADRATINI VANILLA WAFERS</td>\n",
       "      <td>DELICIOUS WAFERS. I FIND THAT EUROPEAN WAFERS ...</td>\n",
       "    </tr>\n",
       "    <tr>\n",
       "      <th>3</th>\n",
       "      <td>73791</td>\n",
       "      <td>B000HDOPZG</td>\n",
       "      <td>AR5J8UI46CURR</td>\n",
       "      <td>Geetha Krishnan</td>\n",
       "      <td>2</td>\n",
       "      <td>2</td>\n",
       "      <td>5</td>\n",
       "      <td>1199577600</td>\n",
       "      <td>LOACKER QUADRATINI VANILLA WAFERS</td>\n",
       "      <td>DELICIOUS WAFERS. I FIND THAT EUROPEAN WAFERS ...</td>\n",
       "    </tr>\n",
       "    <tr>\n",
       "      <th>4</th>\n",
       "      <td>155049</td>\n",
       "      <td>B000PAQ75C</td>\n",
       "      <td>AR5J8UI46CURR</td>\n",
       "      <td>Geetha Krishnan</td>\n",
       "      <td>2</td>\n",
       "      <td>2</td>\n",
       "      <td>5</td>\n",
       "      <td>1199577600</td>\n",
       "      <td>LOACKER QUADRATINI VANILLA WAFERS</td>\n",
       "      <td>DELICIOUS WAFERS. I FIND THAT EUROPEAN WAFERS ...</td>\n",
       "    </tr>\n",
       "  </tbody>\n",
       "</table>\n",
       "</div>"
      ],
      "text/plain": [
       "       Id   ProductId         UserId      ProfileName  HelpfulnessNumerator  \\\n",
       "0   78445  B000HDL1RQ  AR5J8UI46CURR  Geetha Krishnan                     2   \n",
       "1  138317  B000HDOPYC  AR5J8UI46CURR  Geetha Krishnan                     2   \n",
       "2  138277  B000HDOPYM  AR5J8UI46CURR  Geetha Krishnan                     2   \n",
       "3   73791  B000HDOPZG  AR5J8UI46CURR  Geetha Krishnan                     2   \n",
       "4  155049  B000PAQ75C  AR5J8UI46CURR  Geetha Krishnan                     2   \n",
       "\n",
       "   HelpfulnessDenominator  Score        Time  \\\n",
       "0                       2      5  1199577600   \n",
       "1                       2      5  1199577600   \n",
       "2                       2      5  1199577600   \n",
       "3                       2      5  1199577600   \n",
       "4                       2      5  1199577600   \n",
       "\n",
       "                             Summary  \\\n",
       "0  LOACKER QUADRATINI VANILLA WAFERS   \n",
       "1  LOACKER QUADRATINI VANILLA WAFERS   \n",
       "2  LOACKER QUADRATINI VANILLA WAFERS   \n",
       "3  LOACKER QUADRATINI VANILLA WAFERS   \n",
       "4  LOACKER QUADRATINI VANILLA WAFERS   \n",
       "\n",
       "                                                Text  \n",
       "0  DELICIOUS WAFERS. I FIND THAT EUROPEAN WAFERS ...  \n",
       "1  DELICIOUS WAFERS. I FIND THAT EUROPEAN WAFERS ...  \n",
       "2  DELICIOUS WAFERS. I FIND THAT EUROPEAN WAFERS ...  \n",
       "3  DELICIOUS WAFERS. I FIND THAT EUROPEAN WAFERS ...  \n",
       "4  DELICIOUS WAFERS. I FIND THAT EUROPEAN WAFERS ...  "
      ]
     },
     "execution_count": 49,
     "metadata": {},
     "output_type": "execute_result"
    }
   ],
   "source": [
    "display= pd.read_sql_query(\"\"\"\n",
    "SELECT *\n",
    "FROM Reviews\n",
    "WHERE Score != 3 AND UserId=\"AR5J8UI46CURR\"\n",
    "ORDER BY ProductID\n",
    "\"\"\", con)\n",
    "display.head()"
   ]
  },
  {
   "cell_type": "markdown",
   "metadata": {},
   "source": [
    "As can be seen above the same user has multiple reviews of the with the same values for HelpfulnessNumerator, HelpfulnessDenominator, Score, Time, Summary and Text  and on doing analysis it was found that <br>\n",
    "<br> \n",
    "ProductId=B000HDOPZG was Loacker Quadratini Vanilla Wafer Cookies, 8.82-Ounce Packages (Pack of 8)<br>\n",
    "<br> \n",
    "ProductId=B000HDL1RQ was Loacker Quadratini Lemon Wafer Cookies, 8.82-Ounce Packages (Pack of 8) and so on<br>\n",
    "\n",
    "It was inferred after analysis that reviews with same parameters other than ProductId belonged to the same product just having different flavour or quantity. Hence in order to reduce redundancy it was decided to eliminate the rows having same parameters.<br>\n",
    "\n",
    "The method used for the same was that we first sort the data according to ProductId and then just keep the first similar product review and delelte the others. for eg. in the above just the review for ProductId=B000HDL1RQ remains. This method ensures that there is only one representative for each product and deduplication without sorting would lead to possibility of different representatives still existing for the same product."
   ]
  },
  {
   "cell_type": "code",
   "execution_count": 50,
   "metadata": {},
   "outputs": [],
   "source": [
    "#Sorting data according to ProductId in ascending order\n",
    "sorted_data=filtered_data.sort_values('ProductId', axis=0, ascending=True, inplace=False, kind='quicksort', na_position='last')"
   ]
  },
  {
   "cell_type": "code",
   "execution_count": 51,
   "metadata": {},
   "outputs": [
    {
     "data": {
      "text/plain": [
       "(87775, 10)"
      ]
     },
     "execution_count": 51,
     "metadata": {},
     "output_type": "execute_result"
    }
   ],
   "source": [
    "#Deduplication of entries\n",
    "final=sorted_data.drop_duplicates(subset={\"UserId\",\"ProfileName\",\"Time\",\"Text\"}, keep='first', inplace=False)\n",
    "final.shape"
   ]
  },
  {
   "cell_type": "code",
   "execution_count": 52,
   "metadata": {},
   "outputs": [
    {
     "data": {
      "text/plain": [
       "87.775"
      ]
     },
     "execution_count": 52,
     "metadata": {},
     "output_type": "execute_result"
    }
   ],
   "source": [
    "#Checking to see how much % of data still remains\n",
    "(final['Id'].size*1.0)/(filtered_data['Id'].size*1.0)*100"
   ]
  },
  {
   "cell_type": "markdown",
   "metadata": {},
   "source": [
    "<b>Observation:-</b> It was also seen that in two rows given below the value of HelpfulnessNumerator is greater than HelpfulnessDenominator which is not practically possible hence these two rows too are removed from calcualtions"
   ]
  },
  {
   "cell_type": "code",
   "execution_count": 53,
   "metadata": {},
   "outputs": [
    {
     "data": {
      "text/html": [
       "<div>\n",
       "<style scoped>\n",
       "    .dataframe tbody tr th:only-of-type {\n",
       "        vertical-align: middle;\n",
       "    }\n",
       "\n",
       "    .dataframe tbody tr th {\n",
       "        vertical-align: top;\n",
       "    }\n",
       "\n",
       "    .dataframe thead th {\n",
       "        text-align: right;\n",
       "    }\n",
       "</style>\n",
       "<table border=\"1\" class=\"dataframe\">\n",
       "  <thead>\n",
       "    <tr style=\"text-align: right;\">\n",
       "      <th></th>\n",
       "      <th>Id</th>\n",
       "      <th>ProductId</th>\n",
       "      <th>UserId</th>\n",
       "      <th>ProfileName</th>\n",
       "      <th>HelpfulnessNumerator</th>\n",
       "      <th>HelpfulnessDenominator</th>\n",
       "      <th>Score</th>\n",
       "      <th>Time</th>\n",
       "      <th>Summary</th>\n",
       "      <th>Text</th>\n",
       "    </tr>\n",
       "  </thead>\n",
       "  <tbody>\n",
       "    <tr>\n",
       "      <th>0</th>\n",
       "      <td>64422</td>\n",
       "      <td>B000MIDROQ</td>\n",
       "      <td>A161DK06JJMCYF</td>\n",
       "      <td>J. E. Stephens \"Jeanne\"</td>\n",
       "      <td>3</td>\n",
       "      <td>1</td>\n",
       "      <td>5</td>\n",
       "      <td>1224892800</td>\n",
       "      <td>Bought This for My Son at College</td>\n",
       "      <td>My son loves spaghetti so I didn't hesitate or...</td>\n",
       "    </tr>\n",
       "    <tr>\n",
       "      <th>1</th>\n",
       "      <td>44737</td>\n",
       "      <td>B001EQ55RW</td>\n",
       "      <td>A2V0I904FH7ABY</td>\n",
       "      <td>Ram</td>\n",
       "      <td>3</td>\n",
       "      <td>2</td>\n",
       "      <td>4</td>\n",
       "      <td>1212883200</td>\n",
       "      <td>Pure cocoa taste with crunchy almonds inside</td>\n",
       "      <td>It was almost a 'love at first bite' - the per...</td>\n",
       "    </tr>\n",
       "  </tbody>\n",
       "</table>\n",
       "</div>"
      ],
      "text/plain": [
       "      Id   ProductId          UserId              ProfileName  \\\n",
       "0  64422  B000MIDROQ  A161DK06JJMCYF  J. E. Stephens \"Jeanne\"   \n",
       "1  44737  B001EQ55RW  A2V0I904FH7ABY                      Ram   \n",
       "\n",
       "   HelpfulnessNumerator  HelpfulnessDenominator  Score        Time  \\\n",
       "0                     3                       1      5  1224892800   \n",
       "1                     3                       2      4  1212883200   \n",
       "\n",
       "                                        Summary  \\\n",
       "0             Bought This for My Son at College   \n",
       "1  Pure cocoa taste with crunchy almonds inside   \n",
       "\n",
       "                                                Text  \n",
       "0  My son loves spaghetti so I didn't hesitate or...  \n",
       "1  It was almost a 'love at first bite' - the per...  "
      ]
     },
     "execution_count": 53,
     "metadata": {},
     "output_type": "execute_result"
    }
   ],
   "source": [
    "display= pd.read_sql_query(\"\"\"\n",
    "SELECT *\n",
    "FROM Reviews\n",
    "WHERE Score != 3 AND Id=44737 OR Id=64422\n",
    "ORDER BY ProductID\n",
    "\"\"\", con)\n",
    "\n",
    "display.head()"
   ]
  },
  {
   "cell_type": "code",
   "execution_count": 54,
   "metadata": {},
   "outputs": [],
   "source": [
    "final=final[final.HelpfulnessNumerator<=final.HelpfulnessDenominator]"
   ]
  },
  {
   "cell_type": "code",
   "execution_count": 55,
   "metadata": {},
   "outputs": [
    {
     "name": "stdout",
     "output_type": "stream",
     "text": [
      "(87773, 10)\n",
      "1    73592\n",
      "0    14181\n",
      "Name: Score, dtype: int64\n"
     ]
    }
   ],
   "source": [
    "#Before starting the next phase of preprocessing lets see the number of entries left\n",
    "print(final.shape)\n",
    "\n",
    "#How many positive and negative reviews are present in our dataset?\n",
    "print(final['Score'].value_counts())\n"
   ]
  },
  {
   "cell_type": "markdown",
   "metadata": {},
   "source": [
    "# [3].  Text Preprocessing.\n",
    "\n",
    "Now that we have finished deduplication our data requires some preprocessing before we go on further with analysis and making the prediction model.\n",
    "\n",
    "Hence in the Preprocessing phase we do the following in the order below:-\n",
    "\n",
    "1. Begin by removing the html tags\n",
    "2. Remove any punctuations or limited set of special characters like , or . or # etc.\n",
    "3. Check if the word is made up of english letters and is not alpha-numeric\n",
    "4. Check to see if the length of the word is greater than 2 (as it was researched that there is no adjective in 2-letters)\n",
    "5. Convert the word to lowercase\n",
    "6. Remove Stopwords\n",
    "7. Finally Snowball Stemming the word (it was obsereved to be better than Porter Stemming)<br>\n",
    "\n",
    "After which we collect the words used to describe positive and negative reviews"
   ]
  },
  {
   "cell_type": "code",
   "execution_count": 56,
   "metadata": {},
   "outputs": [
    {
     "name": "stdout",
     "output_type": "stream",
     "text": [
      "My dogs loves this chicken but its a product from China, so we wont be buying it anymore.  Its very hard to find any chicken products made in the USA but they are out there, but this one isnt.  Its too bad too because its a good product but I wont take any chances till they know what is going on with the china imports.\n",
      "==================================================\n",
      "The Candy Blocks were a nice visual for the Lego Birthday party but the candy has little taste to it.  Very little of the 2 lbs that I bought were eaten and I threw the rest away.  I would not buy the candy again.\n",
      "==================================================\n",
      "was way to hot for my blood, took a bite and did a jig  lol\n",
      "==================================================\n",
      "My dog LOVES these treats. They tend to have a very strong fish oil smell. So if you are afraid of the fishy smell, don't get it. But I think my dog likes it because of the smell. These treats are really small in size. They are great for training. You can give your dog several of these without worrying about him over eating. Amazon's price was much more reasonable than any other retailer. You can buy a 1 pound bag on Amazon for almost the same price as a 6 ounce bag at other retailers. It's definitely worth it to buy a big bag if your dog eats them a lot.\n",
      "==================================================\n"
     ]
    }
   ],
   "source": [
    "# printing some random reviews\n",
    "sent_0 = final['Text'].values[0]\n",
    "print(sent_0)\n",
    "print(\"=\"*50)\n",
    "\n",
    "sent_1000 = final['Text'].values[1000]\n",
    "print(sent_1000)\n",
    "print(\"=\"*50)\n",
    "\n",
    "sent_1500 = final['Text'].values[1500]\n",
    "print(sent_1500)\n",
    "print(\"=\"*50)\n",
    "\n",
    "sent_4900 = final['Text'].values[4900]\n",
    "print(sent_4900)\n",
    "print(\"=\"*50)"
   ]
  },
  {
   "cell_type": "code",
   "execution_count": 57,
   "metadata": {},
   "outputs": [],
   "source": [
    "# https://stackoverflow.com/a/47091490/4084039\n",
    "import re\n",
    "\n",
    "def decontracted(phrase):\n",
    "    # specific\n",
    "    phrase = re.sub(r\"won't\", \"will not\", phrase)\n",
    "    phrase = re.sub(r\"can\\'t\", \"can not\", phrase)\n",
    "\n",
    "    # general\n",
    "    phrase = re.sub(r\"n\\'t\", \" not\", phrase)\n",
    "    phrase = re.sub(r\"\\'re\", \" are\", phrase)\n",
    "    phrase = re.sub(r\"\\'s\", \" is\", phrase)\n",
    "    phrase = re.sub(r\"\\'d\", \" would\", phrase)\n",
    "    phrase = re.sub(r\"\\'ll\", \" will\", phrase)\n",
    "    phrase = re.sub(r\"\\'t\", \" not\", phrase)\n",
    "    phrase = re.sub(r\"\\'ve\", \" have\", phrase)\n",
    "    phrase = re.sub(r\"\\'m\", \" am\", phrase)\n",
    "    return phrase"
   ]
  },
  {
   "cell_type": "code",
   "execution_count": 58,
   "metadata": {},
   "outputs": [
    {
     "name": "stdout",
     "output_type": "stream",
     "text": [
      "My dog LOVES these treats. They tend to have a very strong fish oil smell. So if you are afraid of the fishy smell, do not get it. But I think my dog likes it because of the smell. These treats are really small in size. They are great for training. You can give your dog several of these without worrying about him over eating. Amazon is price was much more reasonable than any other retailer. You can buy a 1 pound bag on Amazon for almost the same price as a 6 ounce bag at other retailers. It is definitely worth it to buy a big bag if your dog eats them a lot.\n",
      "==================================================\n"
     ]
    }
   ],
   "source": [
    "sent_4900 = decontracted(sent_4900)\n",
    "print(sent_4900)\n",
    "print(\"=\"*50)"
   ]
  },
  {
   "cell_type": "code",
   "execution_count": 59,
   "metadata": {},
   "outputs": [
    {
     "name": "stdout",
     "output_type": "stream",
     "text": [
      "My dogs loves this chicken but its a product from China, so we wont be buying it anymore.  Its very hard to find any chicken products made in the USA but they are out there, but this one isnt.  Its too bad too because its a good product but I wont take any chances till they know what is going on with the china imports.\n"
     ]
    }
   ],
   "source": [
    "#remove words with numbers python: https://stackoverflow.com/a/18082370/4084039\n",
    "sent_0 = re.sub(\"\\S*\\d\\S*\", \"\", sent_0).strip()\n",
    "print(sent_0)"
   ]
  },
  {
   "cell_type": "code",
   "execution_count": 60,
   "metadata": {},
   "outputs": [
    {
     "name": "stdout",
     "output_type": "stream",
     "text": [
      "was way to hot for my blood took a bite and did a jig lol\n"
     ]
    }
   ],
   "source": [
    "#remove spacial character: https://stackoverflow.com/a/5843547/4084039\n",
    "sent_1500 = re.sub('[^A-Za-z0-9]+', ' ', sent_1500)\n",
    "print(sent_1500)"
   ]
  },
  {
   "cell_type": "code",
   "execution_count": 61,
   "metadata": {},
   "outputs": [],
   "source": [
    "# https://gist.github.com/sebleier/554280\n",
    "# we are removing the words from the stop words list: 'no', 'nor', 'not'\n",
    "# <br /><br /> ==> after the above steps, we are getting \"br br\"\n",
    "# we are including them into stop words list\n",
    "# instead of <br /> if we have <br/> these tags would have revmoved in the 1st step\n",
    "\n",
    "stopwords= set(['br', 'the', 'i', 'me', 'my', 'myself', 'we', 'our', 'ours', 'ourselves', 'you', \"you're\", \"you've\",\\\n",
    "            \"you'll\", \"you'd\", 'your', 'yours', 'yourself', 'yourselves', 'he', 'him', 'his', 'himself', \\\n",
    "            'she', \"she's\", 'her', 'hers', 'herself', 'it', \"it's\", 'its', 'itself', 'they', 'them', 'their',\\\n",
    "            'theirs', 'themselves', 'what', 'which', 'who', 'whom', 'this', 'that', \"that'll\", 'these', 'those', \\\n",
    "            'am', 'is', 'are', 'was', 'were', 'be', 'been', 'being', 'have', 'has', 'had', 'having', 'do', 'does', \\\n",
    "            'did', 'doing', 'a', 'an', 'the', 'and', 'but', 'if', 'or', 'because', 'as', 'until', 'while', 'of', \\\n",
    "            'at', 'by', 'for', 'with', 'about', 'against', 'between', 'into', 'through', 'during', 'before', 'after',\\\n",
    "            'above', 'below', 'to', 'from', 'up', 'down', 'in', 'out', 'on', 'off', 'over', 'under', 'again', 'further',\\\n",
    "            'then', 'once', 'here', 'there', 'when', 'where', 'why', 'how', 'all', 'any', 'both', 'each', 'few', 'more',\\\n",
    "            'most', 'other', 'some', 'such', 'only', 'own', 'same', 'so', 'than', 'too', 'very', \\\n",
    "            's', 't', 'can', 'will', 'just', 'don', \"don't\", 'should', \"should've\", 'now', 'd', 'll', 'm', 'o', 're', \\\n",
    "            've', 'y', 'ain', 'aren', \"aren't\", 'couldn', \"couldn't\", 'didn', \"didn't\", 'doesn', \"doesn't\", 'hadn',\\\n",
    "            \"hadn't\", 'hasn', \"hasn't\", 'haven', \"haven't\", 'isn', \"isn't\", 'ma', 'mightn', \"mightn't\", 'mustn',\\\n",
    "            \"mustn't\", 'needn', \"needn't\", 'shan', \"shan't\", 'shouldn', \"shouldn't\", 'wasn', \"wasn't\", 'weren', \"weren't\", \\\n",
    "            'won', \"won't\", 'wouldn', \"wouldn't\"])"
   ]
  },
  {
   "cell_type": "code",
   "execution_count": 62,
   "metadata": {},
   "outputs": [
    {
     "name": "stderr",
     "output_type": "stream",
     "text": [
      "100%|██████████████████████████████████████████████████████████████████████████| 87773/87773 [00:57<00:00, 1535.30it/s]\n"
     ]
    }
   ],
   "source": [
    "# Combining all the above stundents \n",
    "from bs4 import BeautifulSoup\n",
    "from tqdm import tqdm\n",
    "preprocessed_reviews = []\n",
    "# tqdm is for printing the status bar\n",
    "for sentance in tqdm(final['Text'].values):\n",
    "    sentance = re.sub(r\"http\\S+\", \"\", sentance)\n",
    "    sentance = BeautifulSoup(sentance, 'lxml').get_text()\n",
    "    sentance = decontracted(sentance)\n",
    "    sentance = re.sub(\"\\S*\\d\\S*\", \"\", sentance).strip()\n",
    "    sentance = re.sub('[^A-Za-z]+', ' ', sentance)\n",
    "    # https://gist.github.com/sebleier/554280\n",
    "    sentance = ' '.join(e.lower() for e in sentance.split() if e.lower() not in stopwords)\n",
    "    preprocessed_reviews.append(sentance.strip())"
   ]
  },
  {
   "cell_type": "code",
   "execution_count": 63,
   "metadata": {},
   "outputs": [
    {
     "data": {
      "text/plain": [
       "'way hot blood took bite jig lol'"
      ]
     },
     "execution_count": 63,
     "metadata": {},
     "output_type": "execute_result"
    }
   ],
   "source": [
    "preprocessed_reviews[1500]"
   ]
  },
  {
   "cell_type": "code",
   "execution_count": 64,
   "metadata": {},
   "outputs": [],
   "source": [
    "final['cleaned_text']=preprocessed_reviews"
   ]
  },
  {
   "cell_type": "code",
   "execution_count": 65,
   "metadata": {},
   "outputs": [
    {
     "data": {
      "text/plain": [
       "(87773, 11)"
      ]
     },
     "execution_count": 65,
     "metadata": {},
     "output_type": "execute_result"
    }
   ],
   "source": [
    "final.shape"
   ]
  },
  {
   "cell_type": "code",
   "execution_count": 66,
   "metadata": {},
   "outputs": [
    {
     "data": {
      "text/plain": [
       "1    73592\n",
       "0    14181\n",
       "Name: Score, dtype: int64"
      ]
     },
     "execution_count": 66,
     "metadata": {},
     "output_type": "execute_result"
    }
   ],
   "source": [
    "final[\"Score\"].value_counts()"
   ]
  },
  {
   "cell_type": "code",
   "execution_count": 67,
   "metadata": {},
   "outputs": [
    {
     "data": {
      "text/html": [
       "<div>\n",
       "<style scoped>\n",
       "    .dataframe tbody tr th:only-of-type {\n",
       "        vertical-align: middle;\n",
       "    }\n",
       "\n",
       "    .dataframe tbody tr th {\n",
       "        vertical-align: top;\n",
       "    }\n",
       "\n",
       "    .dataframe thead th {\n",
       "        text-align: right;\n",
       "    }\n",
       "</style>\n",
       "<table border=\"1\" class=\"dataframe\">\n",
       "  <thead>\n",
       "    <tr style=\"text-align: right;\">\n",
       "      <th></th>\n",
       "      <th>Id</th>\n",
       "      <th>ProductId</th>\n",
       "      <th>UserId</th>\n",
       "      <th>ProfileName</th>\n",
       "      <th>HelpfulnessNumerator</th>\n",
       "      <th>HelpfulnessDenominator</th>\n",
       "      <th>Score</th>\n",
       "      <th>Time</th>\n",
       "      <th>Summary</th>\n",
       "      <th>Text</th>\n",
       "      <th>cleaned_text</th>\n",
       "    </tr>\n",
       "  </thead>\n",
       "  <tbody>\n",
       "    <tr>\n",
       "      <th>70688</th>\n",
       "      <td>76882</td>\n",
       "      <td>B00002N8SM</td>\n",
       "      <td>A32DW342WBJ6BX</td>\n",
       "      <td>Buttersugar</td>\n",
       "      <td>0</td>\n",
       "      <td>0</td>\n",
       "      <td>1</td>\n",
       "      <td>2000-01-24</td>\n",
       "      <td>A sure death for flies</td>\n",
       "      <td>I bought a few of these after my apartment was...</td>\n",
       "      <td>bought apartment infested fruit flies hours tr...</td>\n",
       "    </tr>\n",
       "    <tr>\n",
       "      <th>1146</th>\n",
       "      <td>1245</td>\n",
       "      <td>B00002Z754</td>\n",
       "      <td>A29Z5PI9BW2PU3</td>\n",
       "      <td>Robbie</td>\n",
       "      <td>7</td>\n",
       "      <td>7</td>\n",
       "      <td>1</td>\n",
       "      <td>2000-06-23</td>\n",
       "      <td>Great Product</td>\n",
       "      <td>This was a really good idea and the final prod...</td>\n",
       "      <td>really good idea final product outstanding use...</td>\n",
       "    </tr>\n",
       "    <tr>\n",
       "      <th>1145</th>\n",
       "      <td>1244</td>\n",
       "      <td>B00002Z754</td>\n",
       "      <td>A3B8RCEI0FXFI6</td>\n",
       "      <td>B G Chase</td>\n",
       "      <td>10</td>\n",
       "      <td>10</td>\n",
       "      <td>1</td>\n",
       "      <td>2000-06-29</td>\n",
       "      <td>WOW Make your own 'slickers' !</td>\n",
       "      <td>I just received my shipment and could hardly w...</td>\n",
       "      <td>received shipment could hardly wait try produc...</td>\n",
       "    </tr>\n",
       "    <tr>\n",
       "      <th>28086</th>\n",
       "      <td>30629</td>\n",
       "      <td>B00008RCMI</td>\n",
       "      <td>A19E94CF5O1LY7</td>\n",
       "      <td>Andrew Arnold</td>\n",
       "      <td>0</td>\n",
       "      <td>0</td>\n",
       "      <td>1</td>\n",
       "      <td>2003-10-25</td>\n",
       "      <td>I've chewed this gum many times, but used?</td>\n",
       "      <td>Nothing against the product, but it does bothe...</td>\n",
       "      <td>nothing product bother link top page buy used ...</td>\n",
       "    </tr>\n",
       "    <tr>\n",
       "      <th>28087</th>\n",
       "      <td>30630</td>\n",
       "      <td>B00008RCMI</td>\n",
       "      <td>A284C7M23F0APC</td>\n",
       "      <td>A. Mendoza</td>\n",
       "      <td>0</td>\n",
       "      <td>0</td>\n",
       "      <td>1</td>\n",
       "      <td>2003-10-25</td>\n",
       "      <td>Best sugarless gum ever!</td>\n",
       "      <td>I love this stuff. It is sugar-free so it does...</td>\n",
       "      <td>love stuff sugar free not rot gums tastes good...</td>\n",
       "    </tr>\n",
       "  </tbody>\n",
       "</table>\n",
       "</div>"
      ],
      "text/plain": [
       "          Id   ProductId          UserId    ProfileName  HelpfulnessNumerator  \\\n",
       "70688  76882  B00002N8SM  A32DW342WBJ6BX    Buttersugar                     0   \n",
       "1146    1245  B00002Z754  A29Z5PI9BW2PU3         Robbie                     7   \n",
       "1145    1244  B00002Z754  A3B8RCEI0FXFI6      B G Chase                    10   \n",
       "28086  30629  B00008RCMI  A19E94CF5O1LY7  Andrew Arnold                     0   \n",
       "28087  30630  B00008RCMI  A284C7M23F0APC     A. Mendoza                     0   \n",
       "\n",
       "       HelpfulnessDenominator  Score       Time  \\\n",
       "70688                       0      1 2000-01-24   \n",
       "1146                        7      1 2000-06-23   \n",
       "1145                       10      1 2000-06-29   \n",
       "28086                       0      1 2003-10-25   \n",
       "28087                       0      1 2003-10-25   \n",
       "\n",
       "                                          Summary  \\\n",
       "70688                      A sure death for flies   \n",
       "1146                                Great Product   \n",
       "1145               WOW Make your own 'slickers' !   \n",
       "28086  I've chewed this gum many times, but used?   \n",
       "28087                    Best sugarless gum ever!   \n",
       "\n",
       "                                                    Text  \\\n",
       "70688  I bought a few of these after my apartment was...   \n",
       "1146   This was a really good idea and the final prod...   \n",
       "1145   I just received my shipment and could hardly w...   \n",
       "28086  Nothing against the product, but it does bothe...   \n",
       "28087  I love this stuff. It is sugar-free so it does...   \n",
       "\n",
       "                                            cleaned_text  \n",
       "70688  bought apartment infested fruit flies hours tr...  \n",
       "1146   really good idea final product outstanding use...  \n",
       "1145   received shipment could hardly wait try produc...  \n",
       "28086  nothing product bother link top page buy used ...  \n",
       "28087  love stuff sugar free not rot gums tastes good...  "
      ]
     },
     "execution_count": 67,
     "metadata": {},
     "output_type": "execute_result"
    }
   ],
   "source": [
    "#Sorted the data based on time and took 100k data points\n",
    "final[\"Time\"] = pd.to_datetime(final[\"Time\"], unit = \"s\")\n",
    "final = final.sort_values(by = \"Time\")\n",
    "final.head()"
   ]
  },
  {
   "cell_type": "code",
   "execution_count": 68,
   "metadata": {},
   "outputs": [
    {
     "name": "stdout",
     "output_type": "stream",
     "text": [
      "(87773,)\n",
      "<class 'numpy.ndarray'>\n",
      "(87773,)\n",
      "<class 'numpy.ndarray'>\n"
     ]
    }
   ],
   "source": [
    "Y = final['Score'].values\n",
    "X = final['cleaned_text'].values\n",
    "print(Y.shape)\n",
    "print(type(Y))\n",
    "print(X.shape)\n",
    "print(type(X))"
   ]
  },
  {
   "cell_type": "code",
   "execution_count": 69,
   "metadata": {},
   "outputs": [
    {
     "name": "stdout",
     "output_type": "stream",
     "text": [
      "====================================================================================================\n",
      "After splitting\n",
      "X_Train Shape: (61441,) Y_Train Shape: (61441,)\n",
      "X_cv Shape: (26332,) Y_cv Shape (26332,)\n",
      "X_Test Shape (26332,) Y_Test Shape (26332,)\n"
     ]
    }
   ],
   "source": [
    "# split the data set into train and test\n",
    "X_Train, X_Test, Y_Train, Y_Test = train_test_split(X,Y,test_size=0.3, random_state=12, shuffle = False)\n",
    "\n",
    "# split the train data set into cross validation train and cross validation test\n",
    "X_tr, X_cv, Y_tr, Y_cv = train_test_split(X,Y, test_size=0.3, random_state=12, shuffle = False)\n",
    "\n",
    "print('='*100)\n",
    "print(\"After splitting\")\n",
    "print(\"X_Train Shape:\",X_Train.shape, \"Y_Train Shape:\",Y_Train.shape)\n",
    "print(\"X_cv Shape:\",X_cv.shape,       \"Y_cv Shape\",Y_cv.shape)\n",
    "print(\"X_Test Shape\",X_Test.shape,    \"Y_Test Shape\",Y_Test.shape)"
   ]
  },
  {
   "cell_type": "markdown",
   "metadata": {},
   "source": [
    "<h2><font color='red'>[3.2] Preprocess Summary</font></h2>"
   ]
  },
  {
   "cell_type": "markdown",
   "metadata": {},
   "source": [
    "# [4] Featurization"
   ]
  },
  {
   "cell_type": "markdown",
   "metadata": {},
   "source": [
    "## [4.1] BAG OF WORDS"
   ]
  },
  {
   "cell_type": "code",
   "execution_count": 70,
   "metadata": {},
   "outputs": [
    {
     "name": "stdout",
     "output_type": "stream",
     "text": [
      "some feature names  ['aa', 'aa dark', 'aa extra', 'aa kona', 'aa may', 'aa not', 'aa part', 'aa quality', 'aa really', 'aa rich']\n",
      "==================================================\n",
      "the type of X Train :  <class 'scipy.sparse.csr.csr_matrix'>\n",
      "the shape of Train BOW vectorizer  (61441, 1071615)\n",
      "the shape of Test BOW vectorizer  (26332, 1071615)\n",
      "the shape of CV BOW vectorizer  (26332, 1071615)\n"
     ]
    }
   ],
   "source": [
    "#BoW\n",
    "count_vect = CountVectorizer(ngram_range=(1,2)) #in scikit-learn\n",
    "count_vect.fit(X_Train)\n",
    "print(\"some feature names \", count_vect.get_feature_names()[:10])\n",
    "X_Train_Bow = count_vect.transform(X_Train)\n",
    "X_Test_Bow = count_vect.transform(X_Test)\n",
    "X_CV_Bow = count_vect.transform(X_cv)\n",
    "\n",
    "print('='*50)\n",
    "\n",
    "#final_counts = count_vect.transform(X_Test)\n",
    "\n",
    "print(\"the type of X Train : \",type(X_Train_Bow))\n",
    "print(\"the shape of Train BOW vectorizer \",X_Train_Bow.get_shape())\n",
    "print(\"the shape of Test BOW vectorizer \",X_Test_Bow.get_shape())\n",
    "print(\"the shape of CV BOW vectorizer \",X_CV_Bow.get_shape())\n",
    "#print(\"the number of unique words \", final_counts.get_shape()[1])"
   ]
  },
  {
   "cell_type": "code",
   "execution_count": 71,
   "metadata": {},
   "outputs": [],
   "source": [
    "def Optimal_Lamda_L1(X_Train,Y_Train,X_CV,Y_CV):\n",
    "    train_AUC_L1 = [] \n",
    "    CV_AUC_L1 = []\n",
    "    cv_scores = []\n",
    "    tuned_parameters=[10**-4, 10**-3, 10**-2, 10**-1, 1,10**1, 10**2, 10**3, 10**4]\n",
    "    for j in  tqdm(tuned_parameters):\n",
    "        LR_Model = LogisticRegression(C=j, penalty= 'l1', class_weight='balanced')\n",
    "        LR_Model.fit(X_Train, Y_Train)\n",
    "        y_train_pred =  LR_Model.predict_proba(X_Train)[:,1] \n",
    "        y_cv_pred =  LR_Model.predict_proba(X_CV)[:,1]\n",
    "        train_AUC_L1.append(roc_auc_score(Y_Train,y_train_pred)) \n",
    "        CV_AUC_L1.append(roc_auc_score(Y_CV, y_cv_pred))\n",
    "                \n",
    "    #Error plots with penaly L1\n",
    "    plt.plot(np.log(tuned_parameters), train_AUC_L1, label='Train AUC-L1') \n",
    "    plt.plot(np.log(tuned_parameters), CV_AUC_L1, label='CV AUC-L1')\n",
    "    plt.legend()\n",
    "    plt.xlabel(\"Hyperparameter (Lambda)\")\n",
    "    plt.ylabel(\"AUC\")\n",
    "    plt.title(\"AUC PLOT\")\n",
    "    plt.show()\n",
    "    \n",
    "    #Cv auc scores with penalty L1\n",
    "    print(\"CV AUS Scores with Penalty=? Cv auc scores with penalty L1\")\n",
    "    print(CV_AUC_L1)\n",
    "    print(\"Maximun AUC value :\",max(CV_AUC_L1))\n",
    "    print(\"Index\",CV_AUC_L1.index(max(CV_AUC_L1)))    "
   ]
  },
  {
   "cell_type": "code",
   "execution_count": 76,
   "metadata": {},
   "outputs": [],
   "source": [
    "def Optimal_Lamda_L2(X_Train,Y_Train,X_CV,Y_CV):\n",
    "    train_AUC_L2 = [] \n",
    "    CV_AUC_L2 = []\n",
    "    cv_scores = []\n",
    "    tuned_parameters=[10**-4, 10**-3, 10**-2, 10**-1, 1,10**1, 10**2, 10**3, 10**4]\n",
    "    for j in  tqdm(tuned_parameters):\n",
    "        LR_Model = LogisticRegression(C=j, penalty= 'l2', class_weight='balanced')\n",
    "        LR_Model.fit(X_Train, Y_Train)\n",
    "        y_train_pred =  LR_Model.predict_proba(X_Train)[:,1] \n",
    "        y_cv_pred =  LR_Model.predict_proba(X_CV)[:,1]\n",
    "        train_AUC_L2.append(roc_auc_score(Y_Train,y_train_pred)) \n",
    "        CV_AUC_L2.append(roc_auc_score(Y_CV, y_cv_pred))\n",
    "                 \n",
    "    #Error plots with penaly L2\n",
    "    plt.plot(np.log(tuned_parameters), train_AUC_L2, label='Train AUC-L2') \n",
    "    plt.plot(np.log(tuned_parameters), CV_AUC_L2, label='CV AUC-L2')\n",
    "    plt.legend()\n",
    "    plt.xlabel(\"Hyperparameter (Lambda)\")\n",
    "    plt.ylabel(\"AUC\")\n",
    "    plt.title(\"AUC PLOT\")\n",
    "    plt.show()\n",
    "    \n",
    "    #Cv auc scores with penalty L2\n",
    "    print(\"Cv AUC scores with penalty L2\")\n",
    "    print(CV_AUC_L2)\n",
    "    print(\"Maximun AUC value :\",max(CV_AUC_L2))\n",
    "    print(\"Index\",CV_AUC_L2.index(max(CV_AUC_L2)))    "
   ]
  },
  {
   "cell_type": "markdown",
   "metadata": {},
   "source": [
    "### <font color=blue>[4.1.1] Hyperparameter tuning with L1 Regulizer and AUC Curve Plot</font>"
   ]
  },
  {
   "cell_type": "code",
   "execution_count": 74,
   "metadata": {},
   "outputs": [
    {
     "name": "stderr",
     "output_type": "stream",
     "text": [
      "100%|████████████████████████████████████████████████████████████████████████████████████| 9/9 [00:51<00:00,  7.13s/it]\n"
     ]
    },
    {
     "data": {
      "image/png": "[encoded data removed]",
      "text/plain": [
       "<Figure size 432x288 with 1 Axes>"
      ]
     },
     "metadata": {},
     "output_type": "display_data"
    },
    {
     "name": "stdout",
     "output_type": "stream",
     "text": [
      "CV AUS Scores with Penalty=? Cv auc scores with penalty L1\n",
      "[0.6593160898298803, 0.7582264148946865, 0.9082536827182264, 0.9519717158371811, 0.9520599816534888, 0.946429487242473, 0.9442112574817713, 0.94488989699802, 0.9390566839676131]\n",
      "Maximun AUC value : 0.9520599816534888\n",
      "Index 4\n"
     ]
    }
   ],
   "source": [
    "Optimal_Lamda_L1(X_Train_Bow, Y_Train, X_CV_Bow,Y_cv)"
   ]
  },
  {
   "cell_type": "markdown",
   "metadata": {},
   "source": [
    "### <font color=blue>[4.1.2] Hyperparameter with L2 Regulizer and AUC Curve Plot</font>"
   ]
  },
  {
   "cell_type": "code",
   "execution_count": 77,
   "metadata": {},
   "outputs": [
    {
     "name": "stderr",
     "output_type": "stream",
     "text": [
      "100%|████████████████████████████████████████████████████████████████████████████████████| 9/9 [04:06<00:00, 38.83s/it]\n"
     ]
    },
    {
     "data": {
      "image/png": "[encoded data removed]",
      "text/plain": [
       "<Figure size 432x288 with 1 Axes>"
      ]
     },
     "metadata": {},
     "output_type": "display_data"
    },
    {
     "name": "stdout",
     "output_type": "stream",
     "text": [
      "Cv AUC scores with penalty L2\n",
      "[0.8554219433041911, 0.9168218360267333, 0.9480772065131374, 0.9561083225186672, 0.95635564014132, 0.9542159411077492, 0.9509292500378546, 0.9472551659084433, 0.9445847986985617]\n",
      "Maximun AUC value : 0.95635564014132\n",
      "Index 4\n"
     ]
    }
   ],
   "source": [
    "optimal_lambda_bow_l2 = Optimal_Lamda_L2(X_Train_Bow, Y_Train, X_CV_Bow,Y_cv)"
   ]
  },
  {
   "cell_type": "markdown",
   "metadata": {},
   "source": [
    "### <font color = blue>[4.1.3] ROC Curve of Logistic Regression</font>"
   ]
  },
  {
   "cell_type": "code",
   "execution_count": 78,
   "metadata": {},
   "outputs": [
    {
     "data": {
      "image/png": "[encoded data removed]",
      "text/plain": [
       "<Figure size 432x288 with 1 Axes>"
      ]
     },
     "metadata": {},
     "output_type": "display_data"
    }
   ],
   "source": [
    "#Testing with test data\n",
    "Optimal_Model = LogisticRegression(penalty='l1',C=0.01, class_weight='balanced')\n",
    "Optimal_Model.fit(X_Train_Bow, Y_Train)\n",
    "prediction = Optimal_Model.predict(X_Test_Bow)\n",
    "Optimal_Model\n",
    "\n",
    "Train_FPR, Train_TPR, threshold = roc_curve(Y_Train, Optimal_Model.predict_proba(X_Train_Bow)[:,1])\n",
    "Test_FPR, Test_TPR, threshold = roc_curve(Y_Test, Optimal_Model.predict_proba(X_Test_Bow)[:,1])\n",
    "roc_auc = auc(Train_FPR, Train_TPR)\n",
    "roc_auc1 = auc(Test_FPR, Test_TPR)\n",
    "\n",
    "plt.plot(Train_FPR, Train_TPR, label = 'Train AUC = %0.2f' % roc_auc)\n",
    "plt.plot(Test_FPR, Test_TPR, label = 'Test AUC = %0.2f' % roc_auc1)\n",
    "plt.legend()\n",
    "plt.xlabel('False Positive Rate')\n",
    "plt.ylabel('True Positive Rate')\n",
    "plt.title('ROC Curve of MNB')\n",
    "plt.show()"
   ]
  },
  {
   "cell_type": "markdown",
   "metadata": {},
   "source": [
    "### <font color = blue>[4.1.4]Train and Test Accuracy</font>"
   ]
  },
  {
   "cell_type": "code",
   "execution_count": 79,
   "metadata": {},
   "outputs": [
    {
     "name": "stdout",
     "output_type": "stream",
     "text": [
      "Training_Accuracy=0.830\n",
      "Training_Error=0.170\n",
      "Test_Accuracy=0.825\n",
      "Test_Error=0.175\n"
     ]
    }
   ],
   "source": [
    "Training_Accuracy_Bow = Optimal_Model.score(X_Train_Bow, Y_Train)\n",
    "print('Training_Accuracy=%0.3f'%Training_Accuracy_Bow)\n",
    "Training_Error_Bow = 1 - Training_Accuracy_Bow\n",
    "print('Training_Error=%0.3f'%Training_Error_Bow)\n",
    "\n",
    "Test_Accuracy_Bow = accuracy_score(Y_Test, prediction)\n",
    "print('Test_Accuracy=%0.3f'%Test_Accuracy_Bow)\n",
    "Test_Error_Bow = 1 - Test_Accuracy_Bow\n",
    "print('Test_Error=%0.3f'%Test_Error_Bow)\n",
    "#print('\\nThe accuracy of the MNB classifier for k = %d is %f%%' % (optimal_alpha_bow, Test_Accuracy_Bow))"
   ]
  },
  {
   "cell_type": "markdown",
   "metadata": {},
   "source": [
    "### <font color = blue>[4.1.5] Confusion Matrix </font>"
   ]
  },
  {
   "cell_type": "code",
   "execution_count": 80,
   "metadata": {},
   "outputs": [
    {
     "data": {
      "text/plain": [
       "<matplotlib.axes._subplots.AxesSubplot at 0x2a110bbc208>"
      ]
     },
     "execution_count": 80,
     "metadata": {},
     "output_type": "execute_result"
    },
    {
     "data": {
      "image/png": "[encoded data removed]",
      "text/plain": [
       "<Figure size 720x504 with 2 Axes>"
      ]
     },
     "metadata": {},
     "output_type": "display_data"
    }
   ],
   "source": [
    "from sklearn.metrics import confusion_matrix\n",
    "conf_matrix = confusion_matrix(Y_Train, Optimal_Model.predict(X_Train_Bow))\n",
    "df_conf_matrix = pd.DataFrame(conf_matrix, columns=np.unique(Y_Train), index=np.unique(Y_Train))\n",
    "df_conf_matrix.index.name = 'Actual'\n",
    "df_conf_matrix.columns.name = 'Predicted'\n",
    "plt.figure(figsize=(10,7))\n",
    "plt.title(\"Confusion Matrix for Train Data\")\n",
    "sns.set(font_scale=1.4)\n",
    "sns.heatmap(df_conf_matrix, cmap='Blues', annot=True, annot_kws={'size':16}, fmt='d')"
   ]
  },
  {
   "cell_type": "code",
   "execution_count": 81,
   "metadata": {},
   "outputs": [
    {
     "data": {
      "text/plain": [
       "<matplotlib.axes._subplots.AxesSubplot at 0x2a110c50278>"
      ]
     },
     "execution_count": 81,
     "metadata": {},
     "output_type": "execute_result"
    },
    {
     "data": {
      "image/png": "[encoded data removed]",
      "text/plain": [
       "<Figure size 720x504 with 2 Axes>"
      ]
     },
     "metadata": {},
     "output_type": "display_data"
    }
   ],
   "source": [
    "#With the reference of below link:\n",
    "#https://www.kaggle.com/agungor2/various-confusion-matrix-plots\n",
    "from sklearn.metrics import confusion_matrix\n",
    "conf_matrix = confusion_matrix(Y_Test, Optimal_Model.predict(X_Test_Bow))\n",
    "df_conf_matrix = pd.DataFrame(conf_matrix, columns=np.unique(Y_Test), index=np.unique(Y_Test))\n",
    "df_conf_matrix.index.name = 'Actual'\n",
    "df_conf_matrix.columns.name = 'Predicted'\n",
    "plt.figure(figsize=(10,7))\n",
    "plt.title(\"Confusion Matrix for Test Data\")\n",
    "sns.set(font_scale=1.4)\n",
    "sns.heatmap(df_conf_matrix, cmap='Blues', annot=True, annot_kws={'size':16}, fmt='d')"
   ]
  },
  {
   "cell_type": "markdown",
   "metadata": {},
   "source": [
    "### <font color = blue>[4.1.6] Classification Report</font>"
   ]
  },
  {
   "cell_type": "code",
   "execution_count": 82,
   "metadata": {},
   "outputs": [
    {
     "name": "stdout",
     "output_type": "stream",
     "text": [
      "             precision    recall  f1-score   support\n",
      "\n",
      "          0       0.50      0.84      0.62      4557\n",
      "          1       0.96      0.82      0.89     21775\n",
      "\n",
      "avg / total       0.88      0.82      0.84     26332\n",
      "\n"
     ]
    }
   ],
   "source": [
    "from sklearn.metrics import classification_report\n",
    "print(classification_report(Y_Test, prediction))"
   ]
  },
  {
   "cell_type": "markdown",
   "metadata": {},
   "source": [
    "## <font color = Blue>[4.1.7] Feature Importance </font>"
   ]
  },
  {
   "cell_type": "markdown",
   "metadata": {},
   "source": [
    "### <font color = blue>Feature Importance for Positive and Negetive Class</font>"
   ]
  },
  {
   "cell_type": "code",
   "execution_count": 83,
   "metadata": {},
   "outputs": [],
   "source": [
    "#Multinomial NB: Most Informative Features\n",
    "#Reference link: https://stackoverflow.com/questions/29867367/sklearn-multinomial-nb-most-informative-features\n",
    "def show_most_informative_features(vectorizer, clf, n=20):\n",
    "    feature_names = vectorizer.get_feature_names()\n",
    "    coefs_with_fns = sorted(zip(clf.coef_[0], feature_names))\n",
    "    top = zip(coefs_with_fns[:n], coefs_with_fns[:-(n + 1):-1])\n",
    "    print(\"________________________________________________________________________________________________\")\n",
    "    print(\"\\tNegative\\t\\t\\t\\t\\tPositive\")    \n",
    "    print(\"________________________________________________________________________________________________\")\n",
    "    for (coef_1, fn_1), (coef_2, fn_2) in top:\n",
    "        print(\"\\t%.4f\\t%-15s\\t\\t\\t\\t%.4f\\t%-15s\" % (coef_1, fn_1, coef_2, fn_2))"
   ]
  },
  {
   "cell_type": "code",
   "execution_count": 84,
   "metadata": {},
   "outputs": [
    {
     "name": "stdout",
     "output_type": "stream",
     "text": [
      "________________________________________________________________________________________________\n",
      "\tNegative\t\t\t\t\tPositive\n",
      "________________________________________________________________________________________________\n",
      "\t-1.0865\tworst          \t\t\t\t1.1727\tdelicious      \n",
      "\t-1.0580\tdisappointed   \t\t\t\t1.0814\tperfect        \n",
      "\t-0.9205\tawful          \t\t\t\t0.9393\tgreat          \n",
      "\t-0.8941\tdisappointing  \t\t\t\t0.9318\tloves          \n",
      "\t-0.8834\tnot good       \t\t\t\t0.9284\texcellent      \n",
      "\t-0.8383\thorrible       \t\t\t\t0.8775\tbest           \n",
      "\t-0.8260\tterrible       \t\t\t\t0.8095\twonderful      \n",
      "\t-0.8040\tunfortunately  \t\t\t\t0.7320\teasy           \n",
      "\t-0.7853\tnot buy        \t\t\t\t0.7060\thighly         \n",
      "\t-0.6799\tmoney          \t\t\t\t0.6591\tnice           \n",
      "\t-0.6694\tnot recommend  \t\t\t\t0.5981\tfavorite       \n",
      "\t-0.6288\twaste          \t\t\t\t0.5507\ttasty          \n",
      "\t-0.6022\tnot worth      \t\t\t\t0.5458\tamazing        \n",
      "\t-0.5875\tbad            \t\t\t\t0.5438\tlove           \n",
      "\t-0.5607\tthought        \t\t\t\t0.5167\tstores         \n",
      "\t-0.5594\tstale          \t\t\t\t0.5118\tgood           \n",
      "\t-0.5406\taway           \t\t\t\t0.4930\tsnack          \n",
      "\t-0.5072\tthrew          \t\t\t\t0.4587\tpleased        \n",
      "\t-0.4600\treturn         \t\t\t\t0.4478\thappy          \n",
      "\t-0.4062\tdisappointment \t\t\t\t0.4377\tdefinitely     \n"
     ]
    }
   ],
   "source": [
    "show_most_informative_features(count_vect, Optimal_Model)"
   ]
  },
  {
   "cell_type": "markdown",
   "metadata": {},
   "source": [
    "## <font color = Blue>[4.1.8] Pertubation Test </font>"
   ]
  },
  {
   "cell_type": "code",
   "execution_count": 85,
   "metadata": {},
   "outputs": [
    {
     "name": "stdout",
     "output_type": "stream",
     "text": [
      "(1, 1071615)\n"
     ]
    }
   ],
   "source": [
    "#Getting the weights W after fit your model with the data X\n",
    "W1=Optimal_Model.coef_\n",
    "print(W1.shape)"
   ]
  },
  {
   "cell_type": "code",
   "execution_count": 86,
   "metadata": {},
   "outputs": [
    {
     "name": "stdout",
     "output_type": "stream",
     "text": [
      "(61441, 1071615)\n"
     ]
    }
   ],
   "source": [
    "#Add a noise to the X (X' = X + e) and get the new data set X' (if X is a sparse matrix, X.data+=e)\n",
    "import copy\n",
    "X=copy.deepcopy(X_Train_Bow)\n",
    "e=np.random.normal(0,0.01)\n",
    "X.data = X.data + e\n",
    "print(X.shape)"
   ]
  },
  {
   "cell_type": "code",
   "execution_count": 87,
   "metadata": {},
   "outputs": [
    {
     "name": "stdout",
     "output_type": "stream",
     "text": [
      "(1, 1071615)\n"
     ]
    }
   ],
   "source": [
    "#We fit the model again on data X' and get the weights W' \n",
    "BOW_Model = LogisticRegression(C= 0.01, penalty= 'l1', class_weight='balanced')\n",
    "BOW_Model.fit(X,Y_Train)\n",
    "W2=BOW_Model.coef_\n",
    "print(W2.shape)"
   ]
  },
  {
   "cell_type": "code",
   "execution_count": 88,
   "metadata": {},
   "outputs": [],
   "source": [
    "#Add the small eps value(to eliminate the divisible by zero error) to W and W’ i.e W=W+10^-6 and W’ = W’+10^-6\n",
    "e=np.random.normal(0,0.01)\n",
    "W1 = W1+e\n",
    "W2 = W2+e"
   ]
  },
  {
   "cell_type": "code",
   "execution_count": 89,
   "metadata": {},
   "outputs": [
    {
     "name": "stdout",
     "output_type": "stream",
     "text": [
      "Max Percentage Value:  32.077349009566774\n",
      "Min Percentage Value:  0.0\n",
      "Std Percentage Value:  0.06808463529111797\n"
     ]
    }
   ],
   "source": [
    "#find the % change between W and W', percentage_change_vector = (| (W-W') / (W) |)*100)\n",
    "percentage_change_vector = np.abs((W2-W1)/W1)*100\n",
    "print(\"Max Percentage Value: \",percentage_change_vector.max())\n",
    "print(\"Min Percentage Value: \",percentage_change_vector.min())\n",
    "print(\"Std Percentage Value: \",percentage_change_vector.std())"
   ]
  },
  {
   "cell_type": "code",
   "execution_count": 90,
   "metadata": {},
   "outputs": [
    {
     "data": {
      "text/plain": [
       "[<matplotlib.lines.Line2D at 0x2a130c97ef0>]"
      ]
     },
     "execution_count": 90,
     "metadata": {},
     "output_type": "execute_result"
    },
    {
     "data": {
      "image/png": "[encoded data removed]",
      "text/plain": [
       "<Figure size 432x288 with 1 Axes>"
      ]
     },
     "metadata": {},
     "output_type": "display_data"
    }
   ],
   "source": [
    "percentage_change=[]\n",
    "collinear_features=[]\n",
    "\n",
    "for i in range(1,101):\n",
    "    f=np.where(percentage_change_vector > i)[1].size\n",
    "    percentage_change.append(i)\n",
    "    collinear_features.append(f)\n",
    "    \n",
    "plt.title('No.of. Multicollinear Features Vs Percentage Change of Weight Vectors')\n",
    "plt.xlabel('% of Weight vectors')\n",
    "plt.ylabel('# of Multicollinear features')\n",
    "plt.plot(percentage_change,collinear_features)"
   ]
  },
  {
   "cell_type": "code",
   "execution_count": 96,
   "metadata": {},
   "outputs": [
    {
     "name": "stdout",
     "output_type": "stream",
     "text": [
      "No of features have weight changes greater than 30%:  1\n",
      "\n",
      "Names of the Multi-collinear features:\n",
      "\n",
      "['available', 'bars', 'beware', 'bitter', 'bottle', 'broken', 'calories', 'cheap', 'disgusting', 'earth', 'enjoyed', 'feel', 'gave', 'give', 'hoping', 'husband', 'instead', 'least', 'left', 'liked', 'looked', 'lot', 'may', 'might', 'mix', 'nasty', 'never', 'never buy', 'not bad', 'not disappointed', 'not even', 'not taste', 'often', 'pieces', 'please', 'problem', 'put', 'quick', 'quickly', 'quite', 'rather', 'recommended', 'refund', 'smell', 'sometimes', 'tastes like', 'texture', 'thanks', 'thinking', 'toy', 'two', 'unless']\n"
     ]
    }
   ],
   "source": [
    "Bow_feat=count_vect.get_feature_names()\n",
    "reqd_feature = np.where(percentage_change_vector > 30)\n",
    "print(\"No of features have weight changes greater than 30%: \", percentage_change_vector[reqd_feature].size)\n",
    "\n",
    "features=[]\n",
    "print(\"\\nNames of the Multi-collinear features:\\n\")\n",
    "for i in np.where(percentage_change_vector > 1)[1]:\n",
    "    features.append(Bow_feat[i])\n",
    "print(features)"
   ]
  },
  {
   "cell_type": "markdown",
   "metadata": {},
   "source": [
    "## <font color=blue>[4.2] TF-IDF</font>"
   ]
  },
  {
   "cell_type": "code",
   "execution_count": 97,
   "metadata": {},
   "outputs": [
    {
     "name": "stdout",
     "output_type": "stream",
     "text": [
      "some sample features(unique words in the corpus) ['aa', 'aafco', 'aback', 'abandon', 'abandoned', 'abc', 'abdomen', 'abdominal', 'abdominal pain', 'abide']\n",
      "==================================================\n",
      "the type of count vectorizer  <class 'scipy.sparse.csr.csr_matrix'>\n",
      "the shape of out text TFIDF vectorizer  (61441, 80662)\n",
      "the shape of out text TFIDF vectorizer  (26332, 80662)\n",
      "the shape of out text TFIDF vectorizer  (26332, 80662)\n"
     ]
    }
   ],
   "source": [
    "#TF-IDF\n",
    "tf_idf_vect = TfidfVectorizer(ngram_range=(1,2), min_df=5)\n",
    "tf_idf_vect.fit_transform(X_Train)\n",
    "print(\"some sample features(unique words in the corpus)\",tf_idf_vect.get_feature_names()[0:10])\n",
    "print('='*50)\n",
    "\n",
    "X_Train_TfIdf = tf_idf_vect.transform(X_Train)\n",
    "X_Test_TfIdf = tf_idf_vect.transform(X_Test)\n",
    "X_CV_TfIdf = tf_idf_vect.transform(X_cv)\n",
    "\n",
    "#final_tf_idf = tf_idf_vect.transform(X_Test)\n",
    "print(\"the type of count vectorizer \",type(X_Train_TfIdf))\n",
    "print(\"the shape of out text TFIDF vectorizer \",X_Train_TfIdf.get_shape())\n",
    "print(\"the shape of out text TFIDF vectorizer \",X_Test_TfIdf.get_shape())\n",
    "print(\"the shape of out text TFIDF vectorizer \",X_CV_TfIdf.get_shape())\n",
    "#print(\"the number of unique words including both unigrams and bigrams \", final_tf_idf.get_shape()[1])"
   ]
  },
  {
   "cell_type": "markdown",
   "metadata": {},
   "source": [
    "### <font color=blue>[4.2.1] Hyperameter tuning with L1 Regulizer and AUC Plot</font>"
   ]
  },
  {
   "cell_type": "code",
   "execution_count": 142,
   "metadata": {},
   "outputs": [
    {
     "name": "stderr",
     "output_type": "stream",
     "text": [
      "100%|████████████████████████████████████████████████████████████████████████████████████| 9/9 [00:12<00:00,  1.70s/it]\n"
     ]
    },
    {
     "data": {
      "image/png": "[encoded data removed]",
      "text/plain": [
       "<Figure size 432x288 with 1 Axes>"
      ]
     },
     "metadata": {},
     "output_type": "display_data"
    },
    {
     "name": "stdout",
     "output_type": "stream",
     "text": [
      "CV AUS Scores with Penalty=? Cv auc scores with penalty L1\n",
      "[0.5, 0.5, 0.7319328359468673, 0.9226217320749269, 0.9622310939856851, 0.9592171113843857, 0.9553812645387032, 0.9548150773957226, 0.9536571711755699]\n",
      "Maximun AUC value : 0.9622310939856851\n",
      "Index 4\n"
     ]
    }
   ],
   "source": [
    "Optimal_Lamda_L1(X_Train_TfIdf, Y_Train, X_CV_TfIdf,Y_cv)"
   ]
  },
  {
   "cell_type": "markdown",
   "metadata": {},
   "source": [
    "### <font color=blue>[4.2.2] Hyperameter tuning with L1 Regulizer and AUC Plot</font>"
   ]
  },
  {
   "cell_type": "code",
   "execution_count": 143,
   "metadata": {},
   "outputs": [
    {
     "name": "stderr",
     "output_type": "stream",
     "text": [
      "100%|████████████████████████████████████████████████████████████████████████████████████| 9/9 [00:31<00:00,  6.02s/it]\n"
     ]
    },
    {
     "data": {
      "image/png": "[encoded data removed]",
      "text/plain": [
       "<Figure size 432x288 with 1 Axes>"
      ]
     },
     "metadata": {},
     "output_type": "display_data"
    },
    {
     "name": "stdout",
     "output_type": "stream",
     "text": [
      "Cv AUC scores with penalty L2\n",
      "[0.902931153721442, 0.9044393871025689, 0.9155399686632921, 0.9454701274606357, 0.9639196129546223, 0.9661884732412279, 0.9632519430497284, 0.9610109577700194, 0.9595892719518828]\n",
      "Maximun AUC value : 0.9661884732412279\n",
      "Index 5\n"
     ]
    }
   ],
   "source": [
    "optimal_lambda_tfidf_l2 = Optimal_Lamda_L2(X_Train_TfIdf, Y_Train, X_CV_TfIdf,Y_cv)"
   ]
  },
  {
   "cell_type": "markdown",
   "metadata": {},
   "source": [
    "### <font color = blue>[4.2.3] ROC Curve of Logistic Regression</font>"
   ]
  },
  {
   "cell_type": "code",
   "execution_count": 101,
   "metadata": {},
   "outputs": [
    {
     "name": "stdout",
     "output_type": "stream",
     "text": [
      "Optimal_Model LogisticRegression(C=0.01, class_weight='balanced', dual=False,\n",
      "          fit_intercept=True, intercept_scaling=1, max_iter=100,\n",
      "          multi_class='ovr', n_jobs=1, penalty='l1', random_state=None,\n",
      "          solver='liblinear', tol=0.0001, verbose=0, warm_start=False)\n",
      "prediction [1 1 0 ... 1 1 1]\n"
     ]
    }
   ],
   "source": [
    "#Testing with test data\n",
    "Optimal_Model = LogisticRegression(penalty='l1',C=0.01, class_weight='balanced')\n",
    "Optimal_Model.fit(X_Train_TfIdf, Y_Train)\n",
    "prediction = Optimal_Model.predict(X_Test_TfIdf)\n",
    "print('Optimal_Model',Optimal_Model)\n",
    "print('prediction',prediction)"
   ]
  },
  {
   "cell_type": "code",
   "execution_count": 102,
   "metadata": {},
   "outputs": [
    {
     "data": {
      "image/png": "[encoded data removed]",
      "text/plain": [
       "<Figure size 432x288 with 1 Axes>"
      ]
     },
     "metadata": {},
     "output_type": "display_data"
    }
   ],
   "source": [
    "#Testing with test data\n",
    "Train_FPR, Train_TPR, threshold = roc_curve(Y_Train, Optimal_Model.predict_proba(X_Train_TfIdf)[:,1])\n",
    "Test_FPR, Test_TPR, threshold = roc_curve(Y_Test, Optimal_Model.predict_proba(X_Test_TfIdf)[:,1])\n",
    "roc_auc2 = auc(Train_FPR, Train_TPR)\n",
    "roc_auc3 = auc(Test_FPR, Test_TPR)\n",
    "\n",
    "plt.plot(Train_FPR, Train_TPR, label = 'Train AUC = %0.2f' % roc_auc2)\n",
    "plt.plot(Test_FPR, Test_TPR, label = 'Test AUC = %0.2f' % roc_auc3)\n",
    "plt.legend()\n",
    "plt.xlabel('False Positive Rate')\n",
    "plt.ylabel('True Positive Rate')\n",
    "plt.title('ROC Curve of MNB')\n",
    "plt.show()"
   ]
  },
  {
   "cell_type": "markdown",
   "metadata": {},
   "source": [
    "### <font color = blue>[4.2.4]Train and Test Accuracy</font>"
   ]
  },
  {
   "cell_type": "code",
   "execution_count": 103,
   "metadata": {},
   "outputs": [
    {
     "name": "stdout",
     "output_type": "stream",
     "text": [
      "Training_Accuracy=0.655\n",
      "Training_Error=0.345\n",
      "Test_Accuracy=0.652\n",
      "Test_Error=0.348\n"
     ]
    }
   ],
   "source": [
    "Training_Accuracy_Tfidf = Optimal_Model.score(X_Train_TfIdf, Y_Train)\n",
    "print('Training_Accuracy=%0.3f'%Training_Accuracy_Tfidf)\n",
    "Training_Error_Tfidf = 1 - Training_Accuracy_Tfidf\n",
    "print('Training_Error=%0.3f'%Training_Error_Tfidf)\n",
    "\n",
    "Test_Accuracy_Tfidf = accuracy_score(Y_Test, prediction)\n",
    "print('Test_Accuracy=%0.3f'%Test_Accuracy_Tfidf)\n",
    "Test_Error_Tfidf = 1 - Test_Accuracy_Tfidf\n",
    "print('Test_Error=%0.3f'%Test_Error_Tfidf)\n",
    "#print('\\nThe accuracy of the MNB classifier for k = %d is %f%%' % (optimal_alpha_bow, Test_Accuracy_Bow))"
   ]
  },
  {
   "cell_type": "markdown",
   "metadata": {},
   "source": [
    "### <font color = blue>[4.2.5] Confusion Matrix </font>"
   ]
  },
  {
   "cell_type": "code",
   "execution_count": 104,
   "metadata": {},
   "outputs": [
    {
     "data": {
      "text/plain": [
       "<matplotlib.axes._subplots.AxesSubplot at 0x2a12b51e780>"
      ]
     },
     "execution_count": 104,
     "metadata": {},
     "output_type": "execute_result"
    },
    {
     "data": {
      "image/png": "[encoded data removed]",
      "text/plain": [
       "<Figure size 720x504 with 2 Axes>"
      ]
     },
     "metadata": {},
     "output_type": "display_data"
    }
   ],
   "source": [
    "from sklearn.metrics import confusion_matrix\n",
    "conf_matrix = confusion_matrix(Y_Train, Optimal_Model.predict(X_Train_TfIdf))\n",
    "df_conf_matrix = pd.DataFrame(conf_matrix, columns=np.unique(Y_Train), index=np.unique(Y_Train))\n",
    "df_conf_matrix.index.name = 'Actual'\n",
    "df_conf_matrix.columns.name = 'Predicted'\n",
    "plt.figure(figsize=(10,7))\n",
    "plt.title(\"Confusion Matrix for Train Data\")\n",
    "sns.set(font_scale=1.4)\n",
    "sns.heatmap(df_conf_matrix, cmap='Blues', annot=True, annot_kws={'size':16}, fmt='d')"
   ]
  },
  {
   "cell_type": "code",
   "execution_count": 105,
   "metadata": {},
   "outputs": [
    {
     "data": {
      "text/plain": [
       "<matplotlib.axes._subplots.AxesSubplot at 0x2a1193c7048>"
      ]
     },
     "execution_count": 105,
     "metadata": {},
     "output_type": "execute_result"
    },
    {
     "data": {
      "image/png": "[encoded data removed]",
      "text/plain": [
       "<Figure size 720x504 with 2 Axes>"
      ]
     },
     "metadata": {},
     "output_type": "display_data"
    }
   ],
   "source": [
    "#With the reference of below link:\n",
    "#https://www.kaggle.com/agungor2/various-confusion-matrix-plots\n",
    "from sklearn.metrics import confusion_matrix\n",
    "conf_matrix = confusion_matrix(Y_Test, Optimal_Model.predict(X_Test_TfIdf))\n",
    "df_conf_matrix = pd.DataFrame(conf_matrix, columns=np.unique(Y_Test), index=np.unique(Y_Test))\n",
    "df_conf_matrix.index.name = 'Actual'\n",
    "df_conf_matrix.columns.name = 'Predicted'\n",
    "plt.figure(figsize=(10,7))\n",
    "plt.title(\"Confusion Matrix for Test Data\")\n",
    "sns.set(font_scale=1.4)\n",
    "sns.heatmap(df_conf_matrix, cmap='Blues', annot=True, annot_kws={'size':16}, fmt='d')"
   ]
  },
  {
   "cell_type": "markdown",
   "metadata": {},
   "source": [
    "### <font color = blue>[4.2.6] Classification Report</font>"
   ]
  },
  {
   "cell_type": "code",
   "execution_count": 106,
   "metadata": {},
   "outputs": [
    {
     "name": "stdout",
     "output_type": "stream",
     "text": [
      "             precision    recall  f1-score   support\n",
      "\n",
      "          0       0.29      0.68      0.40      4557\n",
      "          1       0.91      0.65      0.75     21775\n",
      "\n",
      "avg / total       0.80      0.65      0.69     26332\n",
      "\n"
     ]
    }
   ],
   "source": [
    "from sklearn.metrics import classification_report\n",
    "print(classification_report(Y_Test, prediction))"
   ]
  },
  {
   "cell_type": "markdown",
   "metadata": {},
   "source": [
    "## <font color = Blue>[4.2.7] Feature Importance </font>"
   ]
  },
  {
   "cell_type": "markdown",
   "metadata": {},
   "source": [
    "### <font color = blue>Feature Importance for Positive and Negetive Class</font>\t"
   ]
  },
  {
   "cell_type": "code",
   "execution_count": 107,
   "metadata": {},
   "outputs": [
    {
     "name": "stdout",
     "output_type": "stream",
     "text": [
      "________________________________________________________________________________________________\n",
      "\tNegative\t\t\t\t\tPositive\n",
      "________________________________________________________________________________________________\n",
      "\t-10.3709\tnot            \t\t\t\t8.5827\tgreat          \n",
      "\t0.0000\taa             \t\t\t\t1.7069\tlove           \n",
      "\t0.0000\taafco          \t\t\t\t0.6437\tbest           \n",
      "\t0.0000\taback          \t\t\t\t0.1810\tgood           \n",
      "\t0.0000\tabandon        \t\t\t\t0.0000\tzukes mini     \n",
      "\t0.0000\tabandoned      \t\t\t\t0.0000\tzukes          \n",
      "\t0.0000\tabc            \t\t\t\t0.0000\tzuke treats    \n",
      "\t0.0000\tabdomen        \t\t\t\t0.0000\tzuke minis     \n",
      "\t0.0000\tabdominal      \t\t\t\t0.0000\tzuke mini      \n",
      "\t0.0000\tabdominal pain \t\t\t\t0.0000\tzuke hip       \n",
      "\t0.0000\tabide          \t\t\t\t0.0000\tzuke           \n",
      "\t0.0000\tabilities      \t\t\t\t0.0000\tzucchini       \n",
      "\t0.0000\tability        \t\t\t\t0.0000\tzoom           \n",
      "\t0.0000\tabit           \t\t\t\t0.0000\tzoo            \n",
      "\t0.0000\table           \t\t\t\t0.0000\tzone bars      \n",
      "\t0.0000\table add       \t\t\t\t0.0000\tzone           \n",
      "\t0.0000\table afford    \t\t\t\t0.0000\tzombie         \n",
      "\t0.0000\table break     \t\t\t\t0.0000\tzojirushi      \n",
      "\t0.0000\table brew      \t\t\t\t0.0000\tzoe organic    \n",
      "\t0.0000\table buy       \t\t\t\t0.0000\tzoe            \n"
     ]
    }
   ],
   "source": [
    "show_most_informative_features(tf_idf_vect, Optimal_Model)"
   ]
  },
  {
   "cell_type": "markdown",
   "metadata": {},
   "source": [
    "## <font color = Blue>[4.2.7] Pertubation Test </font>"
   ]
  },
  {
   "cell_type": "code",
   "execution_count": 108,
   "metadata": {},
   "outputs": [
    {
     "name": "stdout",
     "output_type": "stream",
     "text": [
      "(1, 80662)\n"
     ]
    }
   ],
   "source": [
    "#Getting the weights W after fit your model with the data X\n",
    "W1=Optimal_Model.coef_\n",
    "print(W1.shape)"
   ]
  },
  {
   "cell_type": "code",
   "execution_count": 109,
   "metadata": {},
   "outputs": [
    {
     "name": "stdout",
     "output_type": "stream",
     "text": [
      "(61441, 80662)\n"
     ]
    }
   ],
   "source": [
    "#Add a noise to the X (X' = X + e) and get the new data set X' (if X is a sparse matrix, X.data+=e)\n",
    "import copy\n",
    "X=copy.deepcopy(X_Train_TfIdf)\n",
    "e=np.random.normal(0,0.01)\n",
    "X.data = X.data + e\n",
    "print(X.shape)"
   ]
  },
  {
   "cell_type": "code",
   "execution_count": 110,
   "metadata": {},
   "outputs": [
    {
     "name": "stdout",
     "output_type": "stream",
     "text": [
      "(1, 80662)\n"
     ]
    }
   ],
   "source": [
    "#We fit the model again on data X' and get the weights W' \n",
    "TFIDF_Model = LogisticRegression(C= 0.01, penalty= 'l1', class_weight='balanced')\n",
    "TFIDF_Model.fit(X,Y_Train)\n",
    "W2=TFIDF_Model.coef_\n",
    "print(W2.shape)"
   ]
  },
  {
   "cell_type": "code",
   "execution_count": 111,
   "metadata": {},
   "outputs": [],
   "source": [
    "#Add the small eps value(to eliminate the divisible by zero error) to W and W’ i.e W=W+10^-6 and W’ = W’+10^-6\n",
    "e=np.random.normal(0,0.01)\n",
    "W1 = W1+e\n",
    "W2 = W2+e"
   ]
  },
  {
   "cell_type": "code",
   "execution_count": 112,
   "metadata": {},
   "outputs": [
    {
     "name": "stdout",
     "output_type": "stream",
     "text": [
      "Max Percentage Value:  99.91547108858693\n",
      "Min Percentage Value:  0.0\n",
      "Std Percentage Value:  0.5407848003679077\n"
     ]
    }
   ],
   "source": [
    "#find the % change between W and W', percentage_change_vector = (| (W-W') / (W) |)*100)\n",
    "percentage_change_vector = np.abs((W2-W1)/W1)*100\n",
    "print(\"Max Percentage Value: \",percentage_change_vector.max())\n",
    "print(\"Min Percentage Value: \",percentage_change_vector.min())\n",
    "print(\"Std Percentage Value: \",percentage_change_vector.std())"
   ]
  },
  {
   "cell_type": "code",
   "execution_count": 113,
   "metadata": {},
   "outputs": [
    {
     "data": {
      "text/plain": [
       "[<matplotlib.lines.Line2D at 0x2a114dd6358>]"
      ]
     },
     "execution_count": 113,
     "metadata": {},
     "output_type": "execute_result"
    },
    {
     "data": {
      "image/png": "[encoded data removed]",
      "text/plain": [
       "<Figure size 432x288 with 1 Axes>"
      ]
     },
     "metadata": {},
     "output_type": "display_data"
    }
   ],
   "source": [
    "percentage_change=[]\n",
    "collinear_features=[]\n",
    "\n",
    "for i in range(1,101):\n",
    "    f=np.where(percentage_change_vector > i)[1].size\n",
    "    percentage_change.append(i)\n",
    "    collinear_features.append(f)\n",
    "    \n",
    "plt.title('Multicollinear Feature and Percentage of Change Weight Vectors')\n",
    "plt.xlabel('% of Weight vectors')\n",
    "plt.ylabel('# of Multicollinear features')\n",
    "plt.plot(percentage_change,collinear_features)"
   ]
  },
  {
   "cell_type": "code",
   "execution_count": 114,
   "metadata": {},
   "outputs": [
    {
     "name": "stdout",
     "output_type": "stream",
     "text": [
      "No of features have weight changes greater than 30%:  3\n",
      "\n",
      "Names of the Multi-collinear features:\n",
      "\n",
      "['best', 'good', 'great', 'love', 'not']\n"
     ]
    }
   ],
   "source": [
    "tfidf_feat=tf_idf_vect.get_feature_names()\n",
    "reqd_feature = np.where(percentage_change_vector > 30)\n",
    "print(\"No of features have weight changes greater than 30%: \", percentage_change_vector[reqd_feature].size)\n",
    "\n",
    "features=[]\n",
    "print(\"\\nNames of the Multi-collinear features:\\n\")\n",
    "for i in np.where(percentage_change_vector > 1)[1]:\n",
    "    features.append(tfidf_feat[i])\n",
    "print(features)"
   ]
  },
  {
   "cell_type": "markdown",
   "metadata": {},
   "source": [
    "## <font color = Blue>[4.3]Word2Vec </font>"
   ]
  },
  {
   "cell_type": "code",
   "execution_count": 115,
   "metadata": {},
   "outputs": [
    {
     "name": "stdout",
     "output_type": "stream",
     "text": [
      "number of words that occured minimum 5 times  14799\n",
      "sample words  ['bought', 'apartment', 'infested', 'fruit', 'flies', 'hours', 'trap', 'attracted', 'many', 'within', 'days', 'practically', 'gone', 'may', 'not', 'long', 'term', 'solution', 'driving', 'crazy', 'consider', 'buying', 'one', 'caution', 'surface', 'sticky', 'try', 'avoid', 'touching', 'really', 'good', 'idea', 'final', 'product', 'outstanding', 'use', 'car', 'window', 'everybody', 'asks', 'made', 'two', 'thumbs', 'received', 'shipment', 'could', 'hardly', 'wait', 'love', 'call']\n"
     ]
    }
   ],
   "source": [
    "i=0\n",
    "list_of_sentance_train=[]\n",
    "for sentance in X_Train:\n",
    "    list_of_sentance_train.append(sentance.split())\n",
    "\n",
    "w2v_model=Word2Vec(list_of_sentance_train,min_count=5,size=50, workers=4)\n",
    "w2v_words = list(w2v_model.wv.vocab)\n",
    "print(\"number of words that occured minimum 5 times \",len(w2v_words))\n",
    "print(\"sample words \", w2v_words[0:50])"
   ]
  },
  {
   "cell_type": "markdown",
   "metadata": {},
   "source": [
    "### <font color = blue>[4.3.1] Computing avg w2v for train, test, and CV</font>"
   ]
  },
  {
   "cell_type": "code",
   "execution_count": 116,
   "metadata": {},
   "outputs": [
    {
     "name": "stderr",
     "output_type": "stream",
     "text": [
      "100%|███████████████████████████████████████████████████████████████████████████| 61441/61441 [03:49<00:00, 268.14it/s]\n"
     ]
    },
    {
     "name": "stdout",
     "output_type": "stream",
     "text": [
      "(61441, 50)\n",
      "[-0.33950951 -0.33488994 -0.33573298 -0.51396754 -0.06975959  0.21375592\n",
      "  0.07732713 -0.60388593 -0.34814431  0.19845745  0.3815664   0.40204279\n",
      " -0.10928249  0.18389756  0.73805093  0.17999925 -0.12761659 -0.01847279\n",
      "  0.53143276  0.26952201 -0.613577   -0.42093613  0.4640647  -0.42287367\n",
      " -0.15860972 -0.10623529 -0.40118239  0.15250288  0.16710049  0.62810433\n",
      "  0.46918193  0.10473322 -0.45874493 -0.12482662  0.09535776 -0.09233927\n",
      " -0.1601373  -0.04365186  0.05148495  0.16999314 -0.37391493  0.27599862\n",
      "  0.2095408  -0.04154568 -0.1154915  -0.11939497 -0.42355511 -0.4789842\n",
      " -0.01988444 -0.02846113]\n",
      "Wall time: 3min 49s\n"
     ]
    }
   ],
   "source": [
    "%%time\n",
    "# average Word2Vec\n",
    "# compute average word2vec for each review.\n",
    "sent_vectors_train = []; # the avg-w2v for each sentence/review is stored in this list\n",
    "for sent in tqdm(list_of_sentance_train): # for each review/sentence\n",
    "    sent_vec = np.zeros(50) # as word vectors are of zero length 50, you might need to change this to 300 if you use google's w2v\n",
    "    cnt_words =0; # num of words with a valid vector in the sentence/review\n",
    "    for word in sent: # for each word in a review/sentence\n",
    "        if word in w2v_words:\n",
    "            vec = w2v_model.wv[word]\n",
    "            sent_vec += vec\n",
    "            cnt_words += 1\n",
    "    if cnt_words != 0:\n",
    "        sent_vec /= cnt_words\n",
    "    sent_vectors_train.append(sent_vec)\n",
    "sent_vectors_train = np.array(sent_vectors_train)\n",
    "print(sent_vectors_train.shape)\n",
    "print(sent_vectors_train[0])"
   ]
  },
  {
   "cell_type": "code",
   "execution_count": 117,
   "metadata": {},
   "outputs": [
    {
     "name": "stderr",
     "output_type": "stream",
     "text": [
      "100%|███████████████████████████████████████████████████████████████████████████| 26332/26332 [01:55<00:00, 228.91it/s]\n"
     ]
    },
    {
     "name": "stdout",
     "output_type": "stream",
     "text": [
      "(26332, 50)\n",
      "[-0.32212967 -0.05650922  0.85562827  0.80185549  1.38591885 -0.18607936\n",
      " -0.31209497 -0.51726579  0.0216198   0.3427079  -0.09292613 -0.15750389\n",
      "  0.37896734 -0.08537286  0.04484537  0.72499551 -0.26671065  0.39521788\n",
      "  0.65470891 -0.48425626  0.1468507  -0.2299341  -0.366834   -0.08889219\n",
      " -0.60205857 -0.54432607  0.28889598  0.55503118  0.06217408 -0.10286575\n",
      "  0.82000878  0.0868873  -0.45831241  0.41500448 -0.3905572  -0.82853059\n",
      " -0.42346301 -0.39560083  0.28644322 -0.30447075 -0.14453179 -0.14473943\n",
      "  0.79878876  1.36441523 -0.00346129  0.47505222 -0.51671918  0.6013452\n",
      " -0.0138015   0.70236979]\n",
      "Wall time: 1min 55s\n"
     ]
    }
   ],
   "source": [
    "%%time\n",
    "i=0\n",
    "list_of_sentance_cv=[]\n",
    "for sentance in X_cv:\n",
    "    list_of_sentance_cv.append(sentance.split())\n",
    "# average Word2Vec\n",
    "# compute average word2vec for each review.\n",
    "sent_vectors_cv = []; # the avg-w2v for each sentence/review is stored in this list\n",
    "for sent in tqdm(list_of_sentance_cv): # for each review/sentence\n",
    "    sent_vec = np.zeros(50) # as word vectors are of zero length 50, you might need to change this to 300 if you use google's w2v\n",
    "    cnt_words =0; # num of words with a valid vector in the sentence/review\n",
    "    for word in sent: # for each word in a review/sentence\n",
    "        if word in w2v_words:\n",
    "            vec = w2v_model.wv[word]\n",
    "            sent_vec += vec\n",
    "            cnt_words += 1\n",
    "    if cnt_words != 0:\n",
    "        sent_vec /= cnt_words\n",
    "    sent_vectors_cv.append(sent_vec)\n",
    "sent_vectors_cv = np.array(sent_vectors_cv)\n",
    "print(sent_vectors_cv.shape)\n",
    "print(sent_vectors_cv[0])"
   ]
  },
  {
   "cell_type": "code",
   "execution_count": 118,
   "metadata": {},
   "outputs": [
    {
     "name": "stderr",
     "output_type": "stream",
     "text": [
      "100%|███████████████████████████████████████████████████████████████████████████| 26332/26332 [02:11<00:00, 200.37it/s]\n"
     ]
    },
    {
     "name": "stdout",
     "output_type": "stream",
     "text": [
      "(26332, 50)\n",
      "[-0.32212967 -0.05650922  0.85562827  0.80185549  1.38591885 -0.18607936\n",
      " -0.31209497 -0.51726579  0.0216198   0.3427079  -0.09292613 -0.15750389\n",
      "  0.37896734 -0.08537286  0.04484537  0.72499551 -0.26671065  0.39521788\n",
      "  0.65470891 -0.48425626  0.1468507  -0.2299341  -0.366834   -0.08889219\n",
      " -0.60205857 -0.54432607  0.28889598  0.55503118  0.06217408 -0.10286575\n",
      "  0.82000878  0.0868873  -0.45831241  0.41500448 -0.3905572  -0.82853059\n",
      " -0.42346301 -0.39560083  0.28644322 -0.30447075 -0.14453179 -0.14473943\n",
      "  0.79878876  1.36441523 -0.00346129  0.47505222 -0.51671918  0.6013452\n",
      " -0.0138015   0.70236979]\n",
      "Wall time: 2min 11s\n"
     ]
    }
   ],
   "source": [
    "%%time\n",
    "\n",
    "i=0\n",
    "list_of_sentance_test=[]\n",
    "for sentance in X_Test:\n",
    "    list_of_sentance_test.append(sentance.split())\n",
    "    \n",
    "# average Word2Vec\n",
    "# compute average word2vec for each review.\n",
    "sent_vectors_test = []; # the avg-w2v for each sentence/review is stored in this list\n",
    "for sent in tqdm(list_of_sentance_test): # for each review/sentence\n",
    "    sent_vec = np.zeros(50) # as word vectors are of zero length 50, you might need to change this to 300 if you use google's w2v\n",
    "    cnt_words =0; # num of words with a valid vector in the sentence/review\n",
    "    for word in sent: # for each word in a review/sentence\n",
    "        if word in w2v_words:\n",
    "            vec = w2v_model.wv[word]\n",
    "            sent_vec += vec\n",
    "            cnt_words += 1\n",
    "    if cnt_words != 0:\n",
    "        sent_vec /= cnt_words\n",
    "    sent_vectors_test.append(sent_vec)\n",
    "sent_vectors_test = np.array(sent_vectors_test)\n",
    "print(sent_vectors_test.shape)\n",
    "print(sent_vectors_test[0])"
   ]
  },
  {
   "cell_type": "markdown",
   "metadata": {},
   "source": [
    "### <font color=blue>[4.3.2] Hyperameter tuning with L1 Regulizer and AUC Plot</font>"
   ]
  },
  {
   "cell_type": "code",
   "execution_count": 144,
   "metadata": {},
   "outputs": [
    {
     "name": "stderr",
     "output_type": "stream",
     "text": [
      "100%|████████████████████████████████████████████████████████████████████████████████████| 9/9 [01:30<00:00, 13.30s/it]\n"
     ]
    },
    {
     "data": {
      "image/png": "[encoded data removed]",
      "text/plain": [
       "<Figure size 432x288 with 1 Axes>"
      ]
     },
     "metadata": {},
     "output_type": "display_data"
    },
    {
     "name": "stdout",
     "output_type": "stream",
     "text": [
      "CV AUS Scores with Penalty=? Cv auc scores with penalty L1\n",
      "[0.5, 0.8872852328220648, 0.9029992288015537, 0.9045686340163265, 0.9044482555067876, 0.904424341048593, 0.9044231821094053, 0.9044230813320847, 0.9044228092333189]\n",
      "Maximun AUC value : 0.9045686340163265\n",
      "Index 3\n"
     ]
    }
   ],
   "source": [
    "Optimal_Lamda_L1(sent_vectors_train, Y_Train, sent_vectors_cv,Y_cv)"
   ]
  },
  {
   "cell_type": "markdown",
   "metadata": {},
   "source": [
    "### <font color=blue>[4.3.3] Hyperameter tuning with L2 Regulizer and AUC Plot</font>"
   ]
  },
  {
   "cell_type": "code",
   "execution_count": 145,
   "metadata": {},
   "outputs": [
    {
     "name": "stderr",
     "output_type": "stream",
     "text": [
      "100%|████████████████████████████████████████████████████████████████████████████████████| 9/9 [00:14<00:00,  1.85s/it]\n"
     ]
    },
    {
     "data": {
      "image/png": "[encoded data removed]",
      "text/plain": [
       "<Figure size 432x288 with 1 Axes>"
      ]
     },
     "metadata": {},
     "output_type": "display_data"
    },
    {
     "name": "stdout",
     "output_type": "stream",
     "text": [
      "Cv AUC scores with penalty L2\n",
      "[0.895374759362654, 0.9015520765544839, 0.9042422364301448, 0.9044777631062795, 0.9044299241121582, 0.9044226278341416, 0.9044210859411355, 0.9044212673403127, 0.904421337884437]\n",
      "Maximun AUC value : 0.9044777631062795\n",
      "Index 3\n"
     ]
    }
   ],
   "source": [
    "Optimal_Lamda_L2(sent_vectors_train, Y_Train, sent_vectors_cv,Y_cv)"
   ]
  },
  {
   "cell_type": "markdown",
   "metadata": {},
   "source": [
    "### <font color = blue>[4.3.4] ROC Curve of Logistic Regression</font>"
   ]
  },
  {
   "cell_type": "code",
   "execution_count": 121,
   "metadata": {},
   "outputs": [
    {
     "name": "stdout",
     "output_type": "stream",
     "text": [
      "Optimal_Model LogisticRegression(C=0.01, class_weight='balanced', dual=False,\n",
      "          fit_intercept=True, intercept_scaling=1, max_iter=100,\n",
      "          multi_class='ovr', n_jobs=1, penalty='l1', random_state=None,\n",
      "          solver='liblinear', tol=0.0001, verbose=0, warm_start=False)\n",
      "prediction [1 1 1 ... 1 1 1]\n"
     ]
    }
   ],
   "source": [
    "#Testing with test data\n",
    "Optimal_Model = LogisticRegression(penalty='l1',C=0.01, class_weight='balanced')\n",
    "Optimal_Model.fit(sent_vectors_train, Y_Train)\n",
    "prediction = Optimal_Model.predict(sent_vectors_test)\n",
    "print('Optimal_Model',Optimal_Model)\n",
    "print('prediction',prediction)"
   ]
  },
  {
   "cell_type": "code",
   "execution_count": 122,
   "metadata": {},
   "outputs": [
    {
     "data": {
      "image/png": "[encoded data removed]",
      "text/plain": [
       "<Figure size 432x288 with 1 Axes>"
      ]
     },
     "metadata": {},
     "output_type": "display_data"
    }
   ],
   "source": [
    "#Testing with test data\n",
    "Train_FPR, Train_TPR, threshold = roc_curve(Y_Train, Optimal_Model.predict_proba(sent_vectors_train)[:,1])\n",
    "Test_FPR, Test_TPR, threshold = roc_curve(Y_Test, Optimal_Model.predict_proba(sent_vectors_test)[:,1])\n",
    "roc_auc4 = auc(Train_FPR, Train_TPR)\n",
    "roc_auc5 = auc(Test_FPR, Test_TPR)\n",
    "\n",
    "plt.plot(Train_FPR, Train_TPR, label = 'Train AUC = %0.2f' % roc_auc4)\n",
    "plt.plot(Test_FPR, Test_TPR, label = 'Test AUC = %0.2f' % roc_auc5)\n",
    "plt.legend()\n",
    "plt.xlabel('False Positive Rate')\n",
    "plt.ylabel('True Positive Rate')\n",
    "plt.title('ROC Curve of MNB')\n",
    "plt.show()"
   ]
  },
  {
   "cell_type": "markdown",
   "metadata": {},
   "source": [
    "### <font color = blue>[4.3.5]Train and Test Accuracy </font>"
   ]
  },
  {
   "cell_type": "code",
   "execution_count": 123,
   "metadata": {},
   "outputs": [
    {
     "name": "stdout",
     "output_type": "stream",
     "text": [
      "Training_Accuracy=0.810\n",
      "Training_Error=0.190\n",
      "Test_Accuracy=0.806\n",
      "Test_Error=0.194\n"
     ]
    }
   ],
   "source": [
    "Training_Accuracy_w2v = Optimal_Model.score(sent_vectors_train, Y_Train)\n",
    "print('Training_Accuracy=%0.3f'%Training_Accuracy_w2v)\n",
    "Training_Error_w2v = 1 - Training_Accuracy_w2v\n",
    "print('Training_Error=%0.3f'%Training_Error_w2v)\n",
    "\n",
    "Test_Accuracy_w2v = accuracy_score(Y_Test, prediction)\n",
    "print('Test_Accuracy=%0.3f'%Test_Accuracy_w2v)\n",
    "Test_Error_w2v = 1 - Test_Accuracy_w2v\n",
    "print('Test_Error=%0.3f'%Test_Error_w2v)\n",
    "#print('\\nThe accuracy of the MNB classifier for k = %d is %f%%' % (optimal_alpha_bow, Test_Accuracy_Bow))"
   ]
  },
  {
   "cell_type": "markdown",
   "metadata": {},
   "source": [
    "### <font color = blue>[4.3.6]Confusion Matrix </font>"
   ]
  },
  {
   "cell_type": "code",
   "execution_count": 124,
   "metadata": {},
   "outputs": [
    {
     "data": {
      "text/plain": [
       "<matplotlib.axes._subplots.AxesSubplot at 0x2a115c871d0>"
      ]
     },
     "execution_count": 124,
     "metadata": {},
     "output_type": "execute_result"
    },
    {
     "data": {
      "image/png": "[encoded data removed]",
      "text/plain": [
       "<Figure size 720x504 with 2 Axes>"
      ]
     },
     "metadata": {},
     "output_type": "display_data"
    }
   ],
   "source": [
    "from sklearn.metrics import confusion_matrix\n",
    "conf_matrix = confusion_matrix(Y_Train, Optimal_Model.predict(sent_vectors_train))\n",
    "df_conf_matrix = pd.DataFrame(conf_matrix, columns=np.unique(Y_Train), index=np.unique(Y_Train))\n",
    "df_conf_matrix.index.name = 'Actual'\n",
    "df_conf_matrix.columns.name = 'Predicted'\n",
    "plt.figure(figsize=(10,7))\n",
    "plt.title(\"Confusion Matrix for Train Data\")\n",
    "sns.set(font_scale=1.4)\n",
    "sns.heatmap(df_conf_matrix, cmap='Blues', annot=True, annot_kws={'size':16}, fmt='d')"
   ]
  },
  {
   "cell_type": "code",
   "execution_count": 125,
   "metadata": {},
   "outputs": [
    {
     "data": {
      "text/plain": [
       "<matplotlib.axes._subplots.AxesSubplot at 0x2a15f33b908>"
      ]
     },
     "execution_count": 125,
     "metadata": {},
     "output_type": "execute_result"
    },
    {
     "data": {
      "image/png": "[encoded data removed]",
      "text/plain": [
       "<Figure size 720x504 with 2 Axes>"
      ]
     },
     "metadata": {},
     "output_type": "display_data"
    }
   ],
   "source": [
    "from sklearn.metrics import confusion_matrix\n",
    "conf_matrix = confusion_matrix(Y_Test, Optimal_Model.predict(sent_vectors_test))\n",
    "df_conf_matrix = pd.DataFrame(conf_matrix, columns=np.unique(Y_Test), index=np.unique(Y_Test))\n",
    "df_conf_matrix.index.name = 'Actual'\n",
    "df_conf_matrix.columns.name = 'Predicted'\n",
    "plt.figure(figsize=(10,7))\n",
    "plt.title(\"Confusion Matrix for Test Data\")\n",
    "sns.set(font_scale=1.4)\n",
    "sns.heatmap(df_conf_matrix, cmap='Blues', annot=True, annot_kws={'size':16}, fmt='d')"
   ]
  },
  {
   "cell_type": "markdown",
   "metadata": {},
   "source": [
    "### <font color = blue>[4.3.7] Classification Report</font>"
   ]
  },
  {
   "cell_type": "code",
   "execution_count": 126,
   "metadata": {},
   "outputs": [
    {
     "name": "stdout",
     "output_type": "stream",
     "text": [
      "             precision    recall  f1-score   support\n",
      "\n",
      "          0       0.47      0.85      0.60      4557\n",
      "          1       0.96      0.80      0.87     21775\n",
      "\n",
      "avg / total       0.88      0.81      0.82     26332\n",
      "\n"
     ]
    }
   ],
   "source": [
    "from sklearn.metrics import classification_report\n",
    "print(classification_report(Y_Test, prediction))"
   ]
  },
  {
   "cell_type": "markdown",
   "metadata": {},
   "source": [
    "## <font color = blue> [4.4] TFIDF weighted W2v </font>"
   ]
  },
  {
   "cell_type": "code",
   "execution_count": 127,
   "metadata": {},
   "outputs": [],
   "source": [
    "# S = [\"abc def pqr\", \"def def def abc\", \"pqr pqr def\"]\n",
    "model = TfidfVectorizer()\n",
    "model.fit(X_Train)\n",
    "# we are converting a dictionary with word as a key, and the idf as a value\n",
    "dictionary = dict(zip(model.get_feature_names(), list(model.idf_)))"
   ]
  },
  {
   "cell_type": "markdown",
   "metadata": {},
   "source": [
    "### <font color = blue>[4.4.1] Compute TF-IDF weighted Word2Vec for Train, Test, and CV </font>"
   ]
  },
  {
   "cell_type": "code",
   "execution_count": 128,
   "metadata": {},
   "outputs": [
    {
     "name": "stderr",
     "output_type": "stream",
     "text": [
      "100%|████████████████████████████████████████████████████████████████████████████| 61441/61441 [48:36<00:00, 21.07it/s]\n"
     ]
    }
   ],
   "source": [
    "i=0\n",
    "list_of_sentance_train=[]\n",
    "for sentance in X_Train:\n",
    "    list_of_sentance_train.append(sentance.split())\n",
    "# TF-IDF weighted Word2Vec\n",
    "tfidf_feat = model.get_feature_names() # tfidf words/col-names\n",
    "# final_tf_idf is the sparse matrix with row= sentence, col=word and cell_val = tfidf\n",
    "\n",
    "tfidf_sent_vectors_train = []; # the tfidf-w2v for each sentence/review is stored in this list\n",
    "row=0;\n",
    "for sent in tqdm(list_of_sentance_train): # for each review/sentence \n",
    "    sent_vec = np.zeros(50) # as word vectors are of zero length\n",
    "    weight_sum =0; # num of words with a valid vector in the sentence/review\n",
    "    for word in sent: # for each word in a review/sentence\n",
    "        if word in w2v_words and word in tfidf_feat:\n",
    "            vec = w2v_model.wv[word]\n",
    "#             tf_idf = tf_idf_matrix[row, tfidf_feat.index(word)]\n",
    "            # to reduce the computation we are \n",
    "            # dictionary[word] = idf value of word in whole courpus\n",
    "            # sent.count(word) = tf valeus of word in this review\n",
    "            tf_idf = dictionary[word]*(sent.count(word)/len(sent))\n",
    "            sent_vec += (vec * tf_idf)\n",
    "            weight_sum += tf_idf\n",
    "    if weight_sum != 0:\n",
    "        sent_vec /= weight_sum\n",
    "    tfidf_sent_vectors_train.append(sent_vec)\n",
    "    row += 1"
   ]
  },
  {
   "cell_type": "code",
   "execution_count": 129,
   "metadata": {},
   "outputs": [
    {
     "name": "stderr",
     "output_type": "stream",
     "text": [
      "100%|████████████████████████████████████████████████████████████████████████████| 26332/26332 [21:22<00:00, 20.54it/s]\n"
     ]
    }
   ],
   "source": [
    "i=0\n",
    "list_of_sentance_test=[]\n",
    "for sentance in X_Test:\n",
    "    list_of_sentance_test.append(sentance.split())\n",
    "# TF-IDF weighted Word2Vec\n",
    "tfidf_feat = model.get_feature_names() # tfidf words/col-names\n",
    "# final_tf_idf is the sparse matrix with row= sentence, col=word and cell_val = tfidf\n",
    "\n",
    "tfidf_sent_vectors_test = []; # the tfidf-w2v for each sentence/review is stored in this list\n",
    "row=0;\n",
    "for sent in tqdm(list_of_sentance_test): # for each review/sentence \n",
    "    sent_vec = np.zeros(50) # as word vectors are of zero length\n",
    "    weight_sum =0; # num of words with a valid vector in the sentence/review\n",
    "    for word in sent: # for each word in a review/sentence\n",
    "        if word in w2v_words and word in tfidf_feat:\n",
    "            vec = w2v_model.wv[word]\n",
    "#             tf_idf = tf_idf_matrix[row, tfidf_feat.index(word)]\n",
    "            # to reduce the computation we are \n",
    "            # dictionary[word] = idf value of word in whole courpus\n",
    "            # sent.count(word) = tf valeus of word in this review\n",
    "            tf_idf = dictionary[word]*(sent.count(word)/len(sent))\n",
    "            sent_vec += (vec * tf_idf)\n",
    "            weight_sum += tf_idf\n",
    "    if weight_sum != 0:\n",
    "        sent_vec /= weight_sum\n",
    "    tfidf_sent_vectors_test.append(sent_vec)\n",
    "    row += 1"
   ]
  },
  {
   "cell_type": "code",
   "execution_count": 130,
   "metadata": {},
   "outputs": [
    {
     "name": "stderr",
     "output_type": "stream",
     "text": [
      "100%|████████████████████████████████████████████████████████████████████████████| 26332/26332 [21:47<00:00, 20.15it/s]\n"
     ]
    }
   ],
   "source": [
    "i=0\n",
    "list_of_sentance_cv=[]\n",
    "for sentance in X_cv:\n",
    "    list_of_sentance_cv.append(sentance.split())\n",
    "# TF-IDF weighted Word2Vec\n",
    "tfidf_feat = model.get_feature_names() # tfidf words/col-names\n",
    "# final_tf_idf is the sparse matrix with row= sentence, col=word and cell_val = tfidf\n",
    "\n",
    "tfidf_sent_vectors_cv = []; # the tfidf-w2v for each sentence/review is stored in this list\n",
    "row=0;\n",
    "for sent in tqdm(list_of_sentance_cv): # for each review/sentence \n",
    "    sent_vec = np.zeros(50) # as word vectors are of zero length\n",
    "    weight_sum =0; # num of words with a valid vector in the sentence/review\n",
    "    for word in sent: # for each word in a review/sentence\n",
    "        if word in w2v_words and word in tfidf_feat:\n",
    "            vec = w2v_model.wv[word]\n",
    "#             tf_idf = tf_idf_matrix[row, tfidf_feat.index(word)]\n",
    "            # to reduce the computation we are \n",
    "            # dictionary[word] = idf value of word in whole courpus\n",
    "            # sent.count(word) = tf valeus of word in this review\n",
    "            tf_idf = dictionary[word]*(sent.count(word)/len(sent))\n",
    "            sent_vec += (vec * tf_idf)\n",
    "            weight_sum += tf_idf\n",
    "    if weight_sum != 0:\n",
    "        sent_vec /= weight_sum\n",
    "    tfidf_sent_vectors_cv.append(sent_vec)\n",
    "    row += 1"
   ]
  },
  {
   "cell_type": "markdown",
   "metadata": {},
   "source": [
    "### <font color=blue>[4.4.2] Hyperameter tuning with L1 Regulizer and AUC Plot</font>"
   ]
  },
  {
   "cell_type": "code",
   "execution_count": 131,
   "metadata": {},
   "outputs": [
    {
     "name": "stderr",
     "output_type": "stream",
     "text": [
      "100%|████████████████████████████████████████████████████████████████████████████████████| 9/9 [00:55<00:00,  8.25s/it]\n"
     ]
    },
    {
     "data": {
      "image/png": "[encoded data removed]",
      "text/plain": [
       "<Figure size 432x288 with 1 Axes>"
      ]
     },
     "metadata": {},
     "output_type": "display_data"
    },
    {
     "name": "stdout",
     "output_type": "stream",
     "text": [
      "CV AUS Scores with Penalty=? Cv auc scores with penalty L1\n",
      "[0.5, 0.8542753795714797, 0.8771947221909393, 0.8791301909453089, 0.8789090250373696, 0.8788800515576773, 0.8788779352339433, 0.8788774918137323, 0.8788775724355888]\n",
      "Maximun AUC value : 0.8791301909453089\n",
      "Index 3\n"
     ]
    }
   ],
   "source": [
    "Optimal_Lamda_L1(tfidf_sent_vectors_train, Y_Train, tfidf_sent_vectors_cv,Y_cv)"
   ]
  },
  {
   "cell_type": "markdown",
   "metadata": {},
   "source": [
    "### <font color=blue>[4.4.3] Hyperameter tuning with L2 Regulizer and AUC Plot</font>"
   ]
  },
  {
   "cell_type": "code",
   "execution_count": 132,
   "metadata": {},
   "outputs": [
    {
     "name": "stderr",
     "output_type": "stream",
     "text": [
      "100%|████████████████████████████████████████████████████████████████████████████████████| 9/9 [00:16<00:00,  2.05s/it]\n"
     ]
    },
    {
     "data": {
      "image/png": "[encoded data removed]",
      "text/plain": [
       "<Figure size 432x288 with 1 Axes>"
      ]
     },
     "metadata": {},
     "output_type": "display_data"
    },
    {
     "name": "stdout",
     "output_type": "stream",
     "text": [
      "Cv AUC scores with penalty L2\n",
      "[0.8636749004257086, 0.8741226364254082, 0.8787348314385937, 0.8789730589469223, 0.8788892122161259, 0.8788769778493968, 0.8788767359838272, 0.878876534429186, 0.8788765747401142]\n",
      "Maximun AUC value : 0.8789730589469223\n",
      "Index 3\n"
     ]
    }
   ],
   "source": [
    "Optimal_Lamda_L2(tfidf_sent_vectors_train, Y_Train, tfidf_sent_vectors_cv,Y_cv)"
   ]
  },
  {
   "cell_type": "markdown",
   "metadata": {},
   "source": [
    "### <font color = blue>[4.4.4] ROC Curve of Logistic Regression</font>"
   ]
  },
  {
   "cell_type": "code",
   "execution_count": 133,
   "metadata": {},
   "outputs": [
    {
     "name": "stdout",
     "output_type": "stream",
     "text": [
      "Optimal_Model LogisticRegression(C=0.01, class_weight='balanced', dual=False,\n",
      "          fit_intercept=True, intercept_scaling=1, max_iter=100,\n",
      "          multi_class='ovr', n_jobs=1, penalty='l1', random_state=None,\n",
      "          solver='liblinear', tol=0.0001, verbose=0, warm_start=False)\n",
      "prediction [1 0 0 ... 1 1 1]\n"
     ]
    }
   ],
   "source": [
    "#Testing with test data\n",
    "Optimal_Model = LogisticRegression(penalty='l1',C=0.01, class_weight='balanced')\n",
    "Optimal_Model.fit(tfidf_sent_vectors_train, Y_Train)\n",
    "prediction = Optimal_Model.predict(tfidf_sent_vectors_test)\n",
    "print('Optimal_Model',Optimal_Model)\n",
    "print('prediction',prediction)"
   ]
  },
  {
   "cell_type": "code",
   "execution_count": 134,
   "metadata": {},
   "outputs": [
    {
     "data": {
      "image/png": "[encoded data removed]",
      "text/plain": [
       "<Figure size 432x288 with 1 Axes>"
      ]
     },
     "metadata": {},
     "output_type": "display_data"
    }
   ],
   "source": [
    "#Testing with test data\n",
    "Train_FPR, Train_TPR, threshold = roc_curve(Y_Train, Optimal_Model.predict_proba(tfidf_sent_vectors_train)[:,1])\n",
    "Test_FPR, Test_TPR, threshold = roc_curve(Y_Test, Optimal_Model.predict_proba(tfidf_sent_vectors_test)[:,1])\n",
    "roc_auc6 = auc(Train_FPR, Train_TPR)\n",
    "roc_auc7 = auc(Test_FPR, Test_TPR)\n",
    "\n",
    "plt.plot(Train_FPR, Train_TPR, label = 'Train AUC = %0.2f' % roc_auc6)\n",
    "plt.plot(Test_FPR, Test_TPR, label = 'Test AUC = %0.2f' % roc_auc7)\n",
    "plt.legend()\n",
    "plt.xlabel('False Positive Rate')\n",
    "plt.ylabel('True Positive Rate')\n",
    "plt.title('ROC Curve of MNB')\n",
    "plt.show()"
   ]
  },
  {
   "cell_type": "markdown",
   "metadata": {},
   "source": [
    "### <font color = blue>[4.4.5]Train and Test Accuracy </font>"
   ]
  },
  {
   "cell_type": "code",
   "execution_count": 135,
   "metadata": {},
   "outputs": [
    {
     "name": "stdout",
     "output_type": "stream",
     "text": [
      "Training_Accuracy=0.790\n",
      "Training_Error=0.190\n"
     ]
    }
   ],
   "source": [
    "Training_Accuracy_tfidfw2v = Optimal_Model.score(tfidf_sent_vectors_train, Y_Train)\n",
    "print('Training_Accuracy=%0.3f'%Training_Accuracy_tfidfw2v)\n",
    "Training_Error_tfidfw2v = 1 - Training_Accuracy_w2v\n",
    "print('Training_Error=%0.3f'%Training_Error_tfidfw2v)"
   ]
  },
  {
   "cell_type": "code",
   "execution_count": 136,
   "metadata": {},
   "outputs": [
    {
     "name": "stdout",
     "output_type": "stream",
     "text": [
      "Test_Accuracy=0.783\n",
      "Test_Error=0.217\n"
     ]
    }
   ],
   "source": [
    "Test_Accuracy_tfidfw2v = accuracy_score(Y_Test, prediction)\n",
    "print('Test_Accuracy=%0.3f'%Test_Accuracy_tfidfw2v)\n",
    "Test_Error_tfidfw2v = 1 - Test_Accuracy_tfidfw2v\n",
    "print('Test_Error=%0.3f'%Test_Error_tfidfw2v)\n",
    "#print('\\nThe accuracy of the MNB classifier for k = %d is %f%%' % (optimal_alpha_bow, Test_Accuracy_Bow))"
   ]
  },
  {
   "cell_type": "markdown",
   "metadata": {},
   "source": [
    "### <font color = blue>[4.4.6]Confusion Matrix </font>"
   ]
  },
  {
   "cell_type": "code",
   "execution_count": 137,
   "metadata": {},
   "outputs": [
    {
     "data": {
      "text/plain": [
       "<matplotlib.axes._subplots.AxesSubplot at 0x2a1626c55c0>"
      ]
     },
     "execution_count": 137,
     "metadata": {},
     "output_type": "execute_result"
    },
    {
     "data": {
      "image/png": "[encoded data removed]",
      "text/plain": [
       "<Figure size 720x504 with 2 Axes>"
      ]
     },
     "metadata": {},
     "output_type": "display_data"
    }
   ],
   "source": [
    "from sklearn.metrics import confusion_matrix\n",
    "conf_matrix = confusion_matrix(Y_Train, Optimal_Model.predict(tfidf_sent_vectors_train))\n",
    "df_conf_matrix = pd.DataFrame(conf_matrix, columns=np.unique(Y_Train), index=np.unique(Y_Train))\n",
    "df_conf_matrix.index.name = 'Actual'\n",
    "df_conf_matrix.columns.name = 'Predicted'\n",
    "plt.figure(figsize=(10,7))\n",
    "plt.title(\"Confusion Matrix for Train Data\")\n",
    "sns.set(font_scale=1.4)\n",
    "sns.heatmap(df_conf_matrix, cmap='Blues', annot=True, annot_kws={'size':16}, fmt='d')"
   ]
  },
  {
   "cell_type": "code",
   "execution_count": 138,
   "metadata": {},
   "outputs": [
    {
     "data": {
      "text/plain": [
       "<matplotlib.axes._subplots.AxesSubplot at 0x2a1626c56a0>"
      ]
     },
     "execution_count": 138,
     "metadata": {},
     "output_type": "execute_result"
    },
    {
     "data": {
      "image/png": "[encoded data removed]",
      "text/plain": [
       "<Figure size 720x504 with 2 Axes>"
      ]
     },
     "metadata": {},
     "output_type": "display_data"
    }
   ],
   "source": [
    "from sklearn.metrics import confusion_matrix\n",
    "conf_matrix = confusion_matrix(Y_Test, Optimal_Model.predict(tfidf_sent_vectors_test))\n",
    "df_conf_matrix = pd.DataFrame(conf_matrix, columns=np.unique(Y_Test), index=np.unique(Y_Test))\n",
    "df_conf_matrix.index.name = 'Actual'\n",
    "df_conf_matrix.columns.name = 'Predicted'\n",
    "plt.figure(figsize=(10,7))\n",
    "plt.title(\"Confusion Matrix for Test Data\")\n",
    "sns.set(font_scale=1.4)\n",
    "sns.heatmap(df_conf_matrix, cmap='Blues', annot=True, annot_kws={'size':16}, fmt='d')"
   ]
  },
  {
   "cell_type": "markdown",
   "metadata": {},
   "source": [
    "### <font color = blue>[4.4.7] Classification Report</font>"
   ]
  },
  {
   "cell_type": "code",
   "execution_count": 139,
   "metadata": {},
   "outputs": [
    {
     "name": "stdout",
     "output_type": "stream",
     "text": [
      "             precision    recall  f1-score   support\n",
      "\n",
      "          0       0.43      0.81      0.56      4557\n",
      "          1       0.95      0.78      0.86     21775\n",
      "\n",
      "avg / total       0.86      0.78      0.81     26332\n",
      "\n"
     ]
    }
   ],
   "source": [
    "from sklearn.metrics import classification_report\n",
    "print(classification_report(Y_Test, prediction))"
   ]
  },
  {
   "cell_type": "markdown",
   "metadata": {},
   "source": [
    "## <font color = Blue>[4.4.8] Feature Importance </font>"
   ]
  },
  {
   "cell_type": "markdown",
   "metadata": {},
   "source": [
    "### <font color = blue>Feature Importance for Positive and Negetive Class</font>\t"
   ]
  },
  {
   "cell_type": "code",
   "execution_count": 140,
   "metadata": {},
   "outputs": [
    {
     "name": "stdout",
     "output_type": "stream",
     "text": [
      "________________________________________________________________________________________________\n",
      "\tNegative\t\t\t\t\tPositive\n",
      "________________________________________________________________________________________________\n",
      "\t-1.4927\taafco          \t\t\t\t1.1328\taaaaa          \n",
      "\t-1.1375\taahing         \t\t\t\t0.8360\tabbey          \n",
      "\t-0.9563\taaaaaawwwwwwwwww\t\t\t\t0.6794\tabe            \n",
      "\t-0.8997\taback          \t\t\t\t0.5305\taaa            \n",
      "\t-0.7332\tabc            \t\t\t\t0.5033\tabide          \n",
      "\t-0.6642\tabilities      \t\t\t\t0.4619\tabiding        \n",
      "\t-0.6094\tablaze         \t\t\t\t0.3912\tabandoning     \n",
      "\t-0.5975\taachen         \t\t\t\t0.3488\taaaa           \n",
      "\t-0.5406\taaaah          \t\t\t\t0.3482\tabid           \n",
      "\t-0.5286\taarthur        \t\t\t\t0.3314\taamazon        \n",
      "\t-0.5217\tabdomen        \t\t\t\t0.3127\tabit           \n",
      "\t-0.4075\tabbreviated    \t\t\t\t0.2215\taaahs          \n",
      "\t-0.3518\tabbott         \t\t\t\t0.1671\tabandon        \n",
      "\t-0.1843\tabbreviation   \t\t\t\t0.1368\tabates         \n",
      "\t-0.1444\tabandoned      \t\t\t\t0.1365\tabhors         \n",
      "\t-0.1349\taa             \t\t\t\t0.0326\tab             \n",
      "\t-0.1234\taap            \t\t\t\t0.0312\taaaaaaaaaaaa   \n",
      "\t-0.1217\tabby           \t\t\t\t0.0000\tabita          \n",
      "\t-0.0551\tability        \t\t\t\t0.0000\tabilling       \n",
      "\t-0.0527\taadp           \t\t\t\t0.0000\tabdominal      \n"
     ]
    }
   ],
   "source": [
    "show_most_informative_features(model, Optimal_Model)"
   ]
  },
  {
   "cell_type": "markdown",
   "metadata": {},
   "source": [
    "## <font color = Green>Pretty Table</font>"
   ]
  },
  {
   "cell_type": "code",
   "execution_count": 149,
   "metadata": {},
   "outputs": [
    {
     "name": "stdout",
     "output_type": "stream",
     "text": [
      "+---------------------+-----------+-----------+----------------+------------+\n",
      "|      Vectorizer     | CV-AUC-L1 | CV-AUC-L2 | Training Error | Test Error |\n",
      "+---------------------+-----------+-----------+----------------+------------+\n",
      "|         BoW         |   0.952   |   0.956   |      0.17      |   0.175    |\n",
      "|        TF-IDF       |   0.962   |   0.966   |     0.345      |   0.348    |\n",
      "|       Word2Vec      |   0.904   |   0.904   |      0.19      |   0.194    |\n",
      "| TF-IDF Weighted W2V |   0.879   |   0.878   |      0.19      |   0.217    |\n",
      "+---------------------+-----------+-----------+----------------+------------+\n"
     ]
    }
   ],
   "source": [
    "from prettytable import PrettyTable\n",
    "comparision = PrettyTable()\n",
    "comparision.field_names = [\"Vectorizer\", \"CV-AUC-L1\", \"CV-AUC-L2\", \"Training Error\", \"Test Error\"]\n",
    "comparision.add_row([\"BoW\", \"0.952\",\"0.956\", np.round(float(Training_Error_Bow),3), np.round(float(Test_Error_Bow),3)])\n",
    "comparision.add_row([\"TF-IDF\", \"0.962\", \"0.966\",np.round(float(Training_Error_Tfidf),3), np.round(float(Test_Error_Tfidf),3)])\n",
    "comparision.add_row([\"Word2Vec\", \"0.904\", \"0.904\", np.round(float(Training_Error_w2v),3), np.round(float(Test_Error_w2v),3)])\n",
    "comparision.add_row([\"TF-IDF Weighted W2V\", \"0.879\", \"0.878\", np.round(float(Training_Error_tfidfw2v),3), np.round(float(Test_Error_tfidfw2v),3)])\n",
    "print(comparision)"
   ]
  },
  {
   "cell_type": "markdown",
   "metadata": {},
   "source": [
    "### <font color = Green>Conclusion</font>"
   ]
  },
  {
   "cell_type": "markdown",
   "metadata": {},
   "source": [
    "1. Applied Logistic Regression on all the 4 vectorizers(BOW, TFIDF, AVG-W2V, TFIDF-AVG_W2V).\n",
    "2. Sorted the data based on Time and Considered 100 K data points for Training set 70K, Test set: 30K. \n",
    "3. Used AUC as a metric for hyperparameter tuning. And took the range of lambda values between (10^-4 to 10^4).\n",
    "4. Found the top 20 features of positive and negative class for the featurizations Bow and TF-IDF, TFIDF Weighted vector.\n",
    "5. With reference to the pretty table, here is my understanding: \n",
    "    a. Logistic Regression by using TF-IDF featurization is having the best AUC score: 0.96.\n",
    "    b. Logistic Regression by using BoW having AUC score: 0.95 and TF-IDF Weighted W2V is having the AUC Score: 0.87.\n",
    "6. Class_Weight has set to 'balanced'\n",
    "7. Pertubation test has performed and printed the multicollinearity features."
   ]
  },
  {
   "cell_type": "code",
   "execution_count": null,
   "metadata": {},
   "outputs": [],
   "source": []
  }
 ],
 "metadata": {
  "kernelspec": {
   "display_name": "Python 3",
   "language": "python",
   "name": "python3"
  },
  "language_info": {
   "codemirror_mode": {
    "name": "ipython",
    "version": 3
   },
   "file_extension": ".py",
   "mimetype": "text/x-python",
   "name": "python",
   "nbconvert_exporter": "python",
   "pygments_lexer": "ipython3",
   "version": "3.6.5"
  }
 },
 "nbformat": 4,
 "nbformat_minor": 2
}
